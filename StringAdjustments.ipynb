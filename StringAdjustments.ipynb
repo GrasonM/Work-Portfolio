{
 "cells": [
  {
   "cell_type": "code",
   "execution_count": 25,
   "metadata": {},
   "outputs": [
    {
     "name": "stdout",
     "output_type": "stream",
     "text": [
      "SELECT        merged.Workday.Worker AS WD_Worker, Replicon.import.Replicon_PeopleData.UserName AS Rep_Worker, CASE WHEN Replicon.import.Replicon_PeopleData.UserName LIKE CONCAT('%', \n",
      "                         merged.Workday.Worker, '%') THEN 'True' ELSE 'False' END AS Worker_Match, merged.Workday.Party_ID AS WD_PartyID, \n",
      "                         Replicon.import.Replicon_PeopleData.PartyID AS Rep_PartyID, \n",
      "                         CASE WHEN Replicon.import.Replicon_PeopleData.PartyID = merged.Workday.Party_ID THEN 'True' ELSE 'False' END AS PartyID_Match, \n",
      "                         merged.Workday.Employee_ID AS WD_EmployeeID, Replicon.import.Replicon_PeopleData.WorkdayID AS Rep_EmployeeID, \n",
      "                         CASE WHEN Replicon.import.Replicon_PeopleData.WorkdayID = merged.Workday.Employee_ID THEN 'True' ELSE 'False' END AS EmployeeID_Match, \n",
      "                         merged.Workday.LE_ID AS WD_LE_ID, Replicon.import.Replicon_PeopleData.LegalEntityCode AS Rep_LE_ID, \n",
      "                         CASE WHEN Replicon.import.Replicon_PeopleData.LegalEntityCode = merged.Workday.LE_ID THEN 'True' ELSE 'False' END AS LE_ID_Match, \n",
      "                         merged.Workday.LE_Name AS WD_LE_Name, Replicon.import.Replicon_PeopleData.LegalEntity AS Rep_LE_Name, \n",
      "                         CASE WHEN Replicon.import.Replicon_PeopleData.LegalEntity = merged.Workday.LE_Name THEN 'True' ELSE 'False' END AS LE_Name_Match, \n",
      "                         merged.Workday.Management_Level AS WD_Grade, Replicon.import.Replicon_PeopleData.Grade AS Rep_Grade, \n",
      "                         CASE WHEN Replicon.import.Replicon_PeopleData.Grade = merged.Workday.Management_Level THEN 'True' ELSE 'False' END AS GlobalGrade_Match, \n",
      "                         merged.Workday.GUID AS WD_GUID, Replicon.import.Replicon_PeopleData.LoginName AS Rep_GUID, \n",
      "                         CASE WHEN Replicon.import.Replicon_PeopleData.LoginName = merged.Workday.GUID THEN 'True' ELSE 'False' END AS GUID_Match, \n",
      "                         merged.Workday.CC_Code AS WD_CC_Code, Replicon.import.Replicon_PeopleData.CostCenterCode AS Rep_CC_Code, \n",
      "                         CASE WHEN Replicon.import.Replicon_PeopleData.CostCenterCode = merged.Workday.CC_Code THEN 'True' ELSE 'False' END AS CC_Code_Match, \n",
      "                         merged.Workday.CC_Name AS WD_CC_Name, Replicon.import.Replicon_PeopleData.CostCenter AS Rep_CC_Name, \n",
      "                         CASE WHEN Replicon.import.Replicon_PeopleData.CostCenter = merged.Workday.CC_Name THEN 'True' ELSE 'False' END AS CC_Name_Match, \n",
      "                         merged.Workday.LoS AS WD_LoS, Replicon.import.Replicon_PeopleData.LineOfServices AS Rep_LoS, merged.Workday.Country AS WD_Country, \n",
      "                         Replicon.import.Replicon_PeopleData.Country AS Rep_Country, \n",
      "                         CASE WHEN Replicon.import.Replicon_PeopleData.Country = merged.Workday.Country THEN 'True' ELSE 'False' END AS Country_Match, \n",
      "                         merged.Workday.Email AS WD_Email, Replicon.import.Replicon_PeopleData.UserEmail AS Rep_Email, \n",
      "                         CASE WHEN Replicon.import.Replicon_PeopleData.UserEmail = merged.Workday.Email THEN 'True' ELSE 'False' END AS Email_Match, \n",
      "                         Replicon.import.Replicon_PeopleData.EmployeeType AS Rep_EmployeeType, merged.Workday.Employee_Status AS WD_Status, Replicon.import.Replicon_PeopleData.UserStatus AS Rep_Status, \n",
      "                         CASE WHEN Replicon.import.Replicon_PeopleData.UserStatus = 'Enabled' AND merged.Workday.Employee_Status IN ('Active', 'On Leave', 'Parental Leave', 'Leave of Absence') \n",
      "                         THEN 'True' WHEN Replicon.import.Replicon_PeopleData.UserStatus = 'Disabled' AND merged.Workday.Employee_Status != NULL THEN 'True' ELSE 'False' END AS Status_Match, \n",
      "                         merged.Workday.Hire_Date AS WD_HireDate, Replicon.import.Replicon_PeopleData.UserStartDate AS Rep_HireDate, \n",
      "                         CASE WHEN Replicon.import.Replicon_PeopleData.UserStartDate = merged.Workday.Hire_Date THEN 'True' ELSE 'False' END AS HireDate_Match\n",
      "FROM            Replicon.import.Replicon_PeopleData INNER JOIN\n",
      "                         merged.Workday ON Replicon.import.Replicon_PeopleData.PartyID = merged.Workday.Party_ID AND \n",
      "                         Replicon.import.Replicon_PeopleData.LegalEntityCode = merged.Workday.LE_ID\n",
      "\n"
     ]
    }
   ],
   "source": [
    "string = '''SELECT        merged.Workday.ActiveEmployees_R075_PRD.Worker AS WD_Worker, Replicon.import.Replicon_PeopleData.UserName AS Rep_Worker, CASE WHEN Replicon.import.Replicon_PeopleData.UserName LIKE CONCAT('%', \n",
    "                         merged.Workday.ActiveEmployees_R075_PRD.Worker, '%') THEN 'True' ELSE 'False' END AS Worker_Match, merged.Workday.ActiveEmployees_R075_PRD.Party_ID AS WD_PartyID, \n",
    "                         Replicon.import.Replicon_PeopleData.PartyID AS Rep_PartyID, \n",
    "                         CASE WHEN Replicon.import.Replicon_PeopleData.PartyID = merged.Workday.ActiveEmployees_R075_PRD.Party_ID THEN 'True' ELSE 'False' END AS PartyID_Match, \n",
    "                         merged.Workday.ActiveEmployees_R075_PRD.Employee_ID AS WD_EmployeeID, Replicon.import.Replicon_PeopleData.WorkdayID AS Rep_EmployeeID, \n",
    "                         CASE WHEN Replicon.import.Replicon_PeopleData.WorkdayID = merged.Workday.ActiveEmployees_R075_PRD.Employee_ID THEN 'True' ELSE 'False' END AS EmployeeID_Match, \n",
    "                         merged.Workday.ActiveEmployees_R075_PRD.LE_ID AS WD_LE_ID, Replicon.import.Replicon_PeopleData.LegalEntityCode AS Rep_LE_ID, \n",
    "                         CASE WHEN Replicon.import.Replicon_PeopleData.LegalEntityCode = merged.Workday.ActiveEmployees_R075_PRD.LE_ID THEN 'True' ELSE 'False' END AS LE_ID_Match, \n",
    "                         merged.Workday.ActiveEmployees_R075_PRD.LE_Name AS WD_LE_Name, Replicon.import.Replicon_PeopleData.LegalEntity AS Rep_LE_Name, \n",
    "                         CASE WHEN Replicon.import.Replicon_PeopleData.LegalEntity = merged.Workday.ActiveEmployees_R075_PRD.LE_Name THEN 'True' ELSE 'False' END AS LE_Name_Match, \n",
    "                         merged.Workday.ActiveEmployees_R075_PRD.Management_Level AS WD_Grade, Replicon.import.Replicon_PeopleData.Grade AS Rep_Grade, \n",
    "                         CASE WHEN Replicon.import.Replicon_PeopleData.Grade = merged.Workday.ActiveEmployees_R075_PRD.Management_Level THEN 'True' ELSE 'False' END AS GlobalGrade_Match, \n",
    "                         merged.Workday.ActiveEmployees_R075_PRD.GUID AS WD_GUID, Replicon.import.Replicon_PeopleData.LoginName AS Rep_GUID, \n",
    "                         CASE WHEN Replicon.import.Replicon_PeopleData.LoginName = merged.Workday.ActiveEmployees_R075_PRD.GUID THEN 'True' ELSE 'False' END AS GUID_Match, \n",
    "                         merged.Workday.ActiveEmployees_R075_PRD.CC_Code AS WD_CC_Code, Replicon.import.Replicon_PeopleData.CostCenterCode AS Rep_CC_Code, \n",
    "                         CASE WHEN Replicon.import.Replicon_PeopleData.CostCenterCode = merged.Workday.ActiveEmployees_R075_PRD.CC_Code THEN 'True' ELSE 'False' END AS CC_Code_Match, \n",
    "                         merged.Workday.ActiveEmployees_R075_PRD.CC_Name AS WD_CC_Name, Replicon.import.Replicon_PeopleData.CostCenter AS Rep_CC_Name, \n",
    "                         CASE WHEN Replicon.import.Replicon_PeopleData.CostCenter = merged.Workday.ActiveEmployees_R075_PRD.CC_Name THEN 'True' ELSE 'False' END AS CC_Name_Match, \n",
    "                         merged.Workday.ActiveEmployees_R075_PRD.LoS AS WD_LoS, Replicon.import.Replicon_PeopleData.LineOfServices AS Rep_LoS, merged.Workday.ActiveEmployees_R075_PRD.Country AS WD_Country, \n",
    "                         Replicon.import.Replicon_PeopleData.Country AS Rep_Country, \n",
    "                         CASE WHEN Replicon.import.Replicon_PeopleData.Country = merged.Workday.ActiveEmployees_R075_PRD.Country THEN 'True' ELSE 'False' END AS Country_Match, \n",
    "                         merged.Workday.ActiveEmployees_R075_PRD.Email AS WD_Email, Replicon.import.Replicon_PeopleData.UserEmail AS Rep_Email, \n",
    "                         CASE WHEN Replicon.import.Replicon_PeopleData.UserEmail = merged.Workday.ActiveEmployees_R075_PRD.Email THEN 'True' ELSE 'False' END AS Email_Match, \n",
    "                         Replicon.import.Replicon_PeopleData.EmployeeType AS Rep_EmployeeType, merged.Workday.ActiveEmployees_R075_PRD.Employee_Status AS WD_Status, Replicon.import.Replicon_PeopleData.UserStatus AS Rep_Status, \n",
    "                         CASE WHEN Replicon.import.Replicon_PeopleData.UserStatus = 'Enabled' AND merged.Workday.ActiveEmployees_R075_PRD.Employee_Status IN ('Active', 'On Leave', 'Parental Leave', 'Leave of Absence') \n",
    "                         THEN 'True' WHEN Replicon.import.Replicon_PeopleData.UserStatus = 'Disabled' AND merged.Workday.ActiveEmployees_R075_PRD.Employee_Status != NULL THEN 'True' ELSE 'False' END AS Status_Match, \n",
    "                         merged.Workday.ActiveEmployees_R075_PRD.Hire_Date AS WD_HireDate, Replicon.import.Replicon_PeopleData.UserStartDate AS Rep_HireDate, \n",
    "                         CASE WHEN Replicon.import.Replicon_PeopleData.UserStartDate = merged.Workday.ActiveEmployees_R075_PRD.Hire_Date THEN 'True' ELSE 'False' END AS HireDate_Match\n",
    "FROM            Replicon.import.Replicon_PeopleData INNER JOIN\n",
    "                         merged.Workday.ActiveEmployees_R075_PRD ON Replicon.import.Replicon_PeopleData.PartyID = merged.Workday.ActiveEmployees_R075_PRD.Party_ID AND \n",
    "                         Replicon.import.Replicon_PeopleData.LegalEntityCode = merged.Workday.ActiveEmployees_R075_PRD.LE_ID\n",
    "'''\n",
    "\n",
    "#textA = \"PMDM.import.ActiveEmployeeReport_PRD\"\n",
    "\n",
    "#textB = \"Workday.import.ActiveEmployees_R075_PRD\"\n",
    "\n",
    "#string = string.replace(textA, textB)\n",
    "\n",
    "textC = \".ActiveEmployees_R075_PRD\"\n",
    "\n",
    "textD = \"\"\n",
    "\n",
    "string = string.replace(textC, textD)\n",
    "\n",
    "print(string)\n",
    "\n"
   ]
  },
  {
   "cell_type": "code",
   "execution_count": null,
   "metadata": {},
   "outputs": [],
   "source": [
    "SELECT DISTINCT \n",
    "                         TOP (100) PERCENT Concur.import.Concur_Users.Worker AS Con_Worker, PMDM.import.ActiveEmployeeReport_PRD.ENGLISH_NAME AS PMDM_Worker, \n",
    "                         CASE WHEN Concur.import.Concur_Users.Worker = PMDM.import.ActiveEmployeeReport_PRD.ENGLISH_NAME THEN 'True' ELSE 'False' END AS Worker_Match, Concur.import.Concur_Users.PartyID AS Con_PartyID, \n",
    "                         PMDM.import.ActiveEmployeeReport_PRD.PARTY_ID AS PMDM_PartyID, \n",
    "                         CASE WHEN Concur.import.Concur_Users.PartyID = PMDM.import.ActiveEmployeeReport_PRD.PARTY_ID THEN 'True' ELSE 'False' END AS PartyID_Match, Concur.import.Concur_Users.EmployeeID AS Con_EmployeeID, \n",
    "                         PMDM.import.ActiveEmployeeReport_PRD.WORKDAY_EMPLOYEE_ID AS PMDM_EmployeeID, CASE WHEN CAST(Concur.import.Concur_Users.EmployeeID AS nvarchar(MAX)) \n",
    "                         = CAST(PMDM.import.ActiveEmployeeReport_PRD.WORKDAY_EMPLOYEE_ID AS nvarchar(MAX)) THEN 'True' ELSE 'False' END AS Employee_ID_Match, Concur.import.Concur_Users.Country AS Con_Country, \n",
    "                         PMDM.import.ActiveEmployeeReport_PRD.LEGAL_ENTITY_COUNTRY AS PMDM_Country, \n",
    "                         CASE WHEN Concur.import.Concur_Users.Country = PMDM.import.ActiveEmployeeReport_PRD.LEGAL_ENTITY_COUNTRY THEN 'True' ELSE 'False' END AS Country_Match, \n",
    "                         report.ConcurCompanyCodeMapping.Con_LegalEntityName AS Con_LE_Name, PMDM.import.ActiveEmployeeReport_PRD.LEGAL_ENTITY_NAME AS PMDM_LE_Name, \n",
    "                         CASE WHEN report.ConcurCompanyCodeMapping.Con_LegalEntityName = PMDM.import.ActiveEmployeeReport_PRD.LEGAL_ENTITY_NAME THEN 'True' ELSE 'False' END AS LE_Name_Match, \n",
    "                         report.ConcurCompanyCodeMapping.Con_LegalEntityPartyID AS Con_LE_ID, PMDM.import.ActiveEmployeeReport_PRD.LEGAL_ENTITY_PARTY_ID AS PMDM_LE_ID, \n",
    "                         CASE WHEN report.ConcurCompanyCodeMapping.Con_LegalEntityPartyID = PMDM.import.ActiveEmployeeReport_PRD.LEGAL_ENTITY_PARTY_ID THEN 'True' ELSE 'False' END AS LE_ID_Match, \n",
    "                         Concur.import.Concur_Users.CC_Code AS Con_CC_Code, PMDM.import.ActiveEmployeeReport_PRD.ORD_COST_CENTER_CODE AS PMDM_CC_Code, \n",
    "                         CASE WHEN Concur.import.Concur_Users.CC_Code = PMDM.import.ActiveEmployeeReport_PRD.ORD_COST_CENTER_CODE THEN 'True' ELSE 'False' END AS CC_Code_Match, \n",
    "                         Concur.import.Concur_Users.Email AS Con_Email, PMDM.import.ActiveEmployeeReport_PRD.CLOUD_MAIL AS PMDM_Email, \n",
    "                         CASE WHEN Concur.import.Concur_Users.Email = PMDM.import.ActiveEmployeeReport_PRD.CLOUD_MAIL THEN 'True' ELSE 'False' END AS Email_Match, Concur.import.Concur_Users.[Vendor ID] AS Con_VendorID, \n",
    "                         Concur.import.Concur_Users.CC_Name AS Con_CC_Name, PMDM.import.ActiveEmployeeReport_PRD.COST_CENTER_DESCRIPTION AS PMDM_CC_Name, \n",
    "                         CASE WHEN Concur.import.Concur_Users.CC_Name = PMDM.import.ActiveEmployeeReport_PRD.COST_CENTER_DESCRIPTION THEN 'True' ELSE 'False' END AS CC_Name_Match, \n",
    "                         Concur.import.Concur_Users.GlobalGrade AS Con_GlobalGrade, PMDM.import.ActiveEmployeeReport_PRD.GRADE AS PMDM_GlobalGrade, \n",
    "                         CASE WHEN Concur.import.Concur_Users.GlobalGrade = PMDM.import.ActiveEmployeeReport_PRD.GRADE THEN 'True' ELSE 'False' END AS GlobalGrade_Match, Concur.import.Concur_Users.LoS AS Con_LoS, \n",
    "                         PMDM.import.ActiveEmployeeReport_PRD.GLOBAL_LOS AS PMDM_LoS, CASE WHEN Concur.import.Concur_Users.LoS = PMDM.import.ActiveEmployeeReport_PRD.GLOBAL_LOS THEN 'True' WHEN Concur.import.Concur_Users.LoS = 'ASR' AND PMDM.import.ActiveEmployeeReport_PRD.GLOBAL_LOS = 'Assurance' THEN 'True' WHEN Concur.import.Concur_Users.LoS = 'IFS' AND PMDM.import.ActiveEmployeeReport_PRD.GLOBAL_LOS = 'Internal Firm Services' THEN 'True' WHEN Concur.import.Concur_Users.LoS = 'ADVS' AND PMDM.import.ActiveEmployeeReport_PRD.GLOBAL_LOS = 'Advisory' THEN 'True' WHEN Concur.import.Concur_Users.LoS is null AND PMDM.import.ActiveEmployeeReport_PRD.GLOBAL_LOS is null THEN 'True' ELSE 'False' END AS LoS_Match, \n",
    "                         Concur.import.Concur_Users.Active AS Con_Status, PMDM.import.ActiveEmployeeReport_PRD.EMPLOYMENT_STATUS AS PMDM_Status, CASE WHEN Concur.import.Concur_Users.Active = 'Y' AND \n",
    "                         PMDM.import.ActiveEmployeeReport_PRD.EMPLOYMENT_STATUS IN ('Active', 'On Leave') THEN 'True' WHEN Concur.import.Concur_Users.Active = 'N' AND \n",
    "                         PMDM.import.ActiveEmployeeReport_PRD.EMPLOYMENT_STATUS != NULL THEN 'True' ELSE 'False' END AS Status_Match\n",
    "FROM            Concur.import.Concur_Users INNER JOIN\n",
    "                         report.ConcurCompanyCodeMapping ON Concur.import.Concur_Users.[Company Code] = report.ConcurCompanyCodeMapping.Con_CompanyCode LEFT OUTER JOIN\n",
    "                         PMDM.import.ActiveEmployeeReport_PRD ON CAST(Concur.import.Concur_Users.EmployeeID AS nvarchar(MAX)) = CAST(PMDM.import.ActiveEmployeeReport_PRD.WORKDAY_EMPLOYEE_ID AS nvarchar(MAX)) AND \n",
    "                         CAST(Concur.import.Concur_Users.PartyID AS nvarchar(MAX)) = CAST(PMDM.import.ActiveEmployeeReport_PRD.PARTY_ID AS nvarchar(MAX))\n",
    "ORDER BY PMDM_PartyID DESC"
   ]
  },
  {
   "cell_type": "code",
   "execution_count": null,
   "metadata": {},
   "outputs": [],
   "source": [
    "SELECT DISTINCT \n",
    "                         TOP (100) PERCENT CAST(Concur.import.Concur_Users.PartyID AS nvarchar(MAX)) AS Con_PartyID, CAST(merged.Workday.Party_ID AS nvarchar(MAX)) AS WD_PartyID, \n",
    "                         CAST(Concur.import.Concur_Users.EmployeeID AS nvarchar(MAX)) AS Con_EmployeeID, CAST(merged.Workday.Employee_ID AS nvarchar(MAX)) AS WD_EmployeeID, Concur.import.Concur_Users.Worker AS Con_Worker, \n",
    "                         merged.Workday.Worker AS WD_Worker, Concur.import.Concur_Users.Country AS Con_Country, merged.Workday.Country AS WD_Country, Concur.import.Concur_Users.LE_Name AS Con_LE_Name, \n",
    "                         dbo.CompanyCodeMapping.PMDM_LegalEntityName AS PMDM_LE_Name, merged.Workday.LE_Name AS WD_LE_Name, Concur.import.Concur_Users.[Company Code] AS Con_CompanyCode, \n",
    "                         merged.Workday.GUID AS WD_GUID, Concur.import.Concur_Users.CC_Code AS Con_CC_Code, merged.Workday.CC_Code AS WD_CC_Code, Concur.import.Concur_Users.Email AS Con_Email, \n",
    "                         merged.Workday.Email AS WD_Email, Concur.import.Concur_Users.[Vendor ID] AS Con_VendorID, merged.Workday.LE_ID AS WD_LE_ID, dbo.CompanyCodeMapping.PMDM_LegalEntityPartyID AS PMDM_LE_ID, \n",
    "                         Concur.import.Concur_Users.CC_Name AS Con_CC_Name, merged.Workday.CC_Name AS WD_CC_Name, Concur.import.Concur_Users.GlobalGrade AS Con_GlobalGrade, merged.Workday.GlobalGrade AS WD_GlobalGrade, \n",
    "                         Concur.import.Concur_Users.LoS AS Con_LoS, merged.Workday.LoS AS WD_LoS, Concur.import.Concur_Users.Active AS Con_Status, merged.Workday.Employee_Status AS WD_Status\n",
    "FROM            Concur.import.Concur_Users INNER JOIN\n",
    "                         dbo.CompanyCodeMapping ON Concur.import.Concur_Users.[Company Code] = dbo.CompanyCodeMapping.CompanyCode LEFT OUTER JOIN\n",
    "                         merged.Workday ON CAST(Concur.import.Concur_Users.PartyID AS nvarchar(MAX)) = CAST(merged.Workday.Party_ID AS nvarchar(MAX)) AND CAST(Concur.import.Concur_Users.EmployeeID AS nvarchar(MAX)) \n",
    "                         = CAST(merged.Workday.Employee_ID AS nvarchar(MAX))"
   ]
  },
  {
   "cell_type": "code",
   "execution_count": 1,
   "metadata": {},
   "outputs": [
    {
     "ename": "SyntaxError",
     "evalue": "invalid syntax (<ipython-input-1-743596af2d74>, line 1)",
     "output_type": "error",
     "traceback": [
      "\u001b[1;36m  File \u001b[1;32m\"<ipython-input-1-743596af2d74>\"\u001b[1;36m, line \u001b[1;32m1\u001b[0m\n\u001b[1;33m    CASE WHEN Concur.import.Concur_Users.Worker = PMDM.import.ActiveEmployeeReport_PRD.ENGLISH_NAME THEN 'True' ELSE 'False' END AS Worker_Match\u001b[0m\n\u001b[1;37m         ^\u001b[0m\n\u001b[1;31mSyntaxError\u001b[0m\u001b[1;31m:\u001b[0m invalid syntax\n"
     ]
    }
   ],
   "source": [
    "CASE WHEN CAST(Concur.import.Concur_Users.PartyID AS nvarchar(MAX)) = CAST(merged.Workday.Party_ID AS nvarchar(MAX)) THEN 'True' ELSE 'False' END AS PartyID_Match,\n",
    "CASE WHEN CAST(Concur.import.Concur_Users.EmployeeID AS nvarchar(MAX)) = CAST(merged.Workday.Employee_ID AS nvarchar(MAX)) THEN 'True' ELSE 'False' END AS EmployeeID_Match,\n",
    "CASE WHEN Concur.import.Concur_Users.Worker = merged.Workday.Worker THEN 'True' ELSE 'False' END AS Worker_Match,\n",
    "CASE WHEN Concur.import.Concur_Users.Country = merged.Workday.Country THEN 'True' ELSE 'False' END AS Country_Match,\n",
    "CASE WHEN Concur.import.Concur_Users.LE_Name = merged.Workday.LE_Name THEN 'True' ELSE 'False' END AS LE_Name_Match,\n",
    "CASE WHEN Concur.import.Concur_Users.CC_Code = merged.Workday.CC_Code THEN 'True' ELSE 'False' END AS CC_Code_Match,\n",
    "CASE WHEN Concur.import.Concur_Users.Email = merged.Workday.Email THEN 'True' ELSE 'False' END AS Email_Match,\n",
    "CASE WHEN report.ConcurCompanyCodeMapping.Con_LegalEntityPartyID = merged.Workday.LE_ID THEN 'True' ELSE 'False' END AS LE_ID_Match,\n",
    "CASE WHEN Concur.import.Concur_Users.CC_Name = merged.Workday.CC_Name THEN 'True' ELSE 'False' END AS CC_Name_Match,\n",
    "CASE WHEN Concur.import.Concur_Users.GlobalGrade = merged.Workday.GlobalGrade THEN 'True' ELSE 'False' END AS GlobalGrade_Match,\n",
    "CASE WHEN Concur.import.Concur_Users.LoS = PMDM.import.ActiveEmployeeReport_PRD.GLOBAL_LOS THEN 'True' WHEN Concur.import.Concur_Users.LoS = 'ASR' AND merged.Workday.LoS = 'Assurance' THEN 'True' WHEN Concur.import.Concur_Users.LoS = 'IFS' AND merged.Workday.LoS = 'Internal Firm Services' THEN 'True' WHEN Concur.import.Concur_Users.LoS = 'ADVS' AND merged.Workday.LoS = 'Advisory' THEN 'True' WHEN Concur.import.Concur_Users.LoS is null AND merged.Workday.LoS is null THEN 'True' ELSE 'False' END AS LoS_Match,\n",
    "CASE WHEN Concur.import.Concur_Users.Active = 'Y' AND merged.Workday.Employee_Status IN ('Active', 'On Leave') THEN 'True' WHEN Concur.import.Concur_Users.Active = 'N' AND merged.Workday.Employee_Status != NULL THEN 'True' ELSE 'False' END AS Status_Match"
   ]
  },
  {
   "cell_type": "code",
   "execution_count": null,
   "metadata": {},
   "outputs": [],
   "source": [
    "CASE WHEN Concur.import.Concur_Users.Country = PMDM.import.ActiveEmployeeReport_PRD.LEGAL_ENTITY_COUNTRY THEN 'True' ELSE 'False' END AS Country_Match, \n",
    "CASE WHEN report.ConcurCompanyCodeMapping.Con_LegalEntityName = PMDM.import.ActiveEmployeeReport_PRD.LEGAL_ENTITY_NAME THEN 'True' ELSE 'False' END AS LE_Name_Match, \n",
    "CASE WHEN report.ConcurCompanyCodeMapping.Con_LegalEntityPartyID = PMDM.import.ActiveEmployeeReport_PRD.LEGAL_ENTITY_PARTY_ID THEN 'True' ELSE 'False' END AS LE_ID_Match, \n",
    "CASE WHEN Concur.import.Concur_Users.CC_Code = PMDM.import.ActiveEmployeeReport_PRD.ORD_COST_CENTER_CODE THEN 'True' ELSE 'False' END AS CC_Code_Match, \n",
    "CASE WHEN Concur.import.Concur_Users.Email = PMDM.import.ActiveEmployeeReport_PRD.CLOUD_MAIL THEN 'True' ELSE 'False' END AS Email_Match, Concur.import.Concur_Users.[Vendor ID] AS Con_VendorID, \n",
    "CASE WHEN Concur.import.Concur_Users.CC_Name = PMDM.import.ActiveEmployeeReport_PRD.COST_CENTER_DESCRIPTION THEN 'True' ELSE 'False' END AS CC_Name_Match, \n",
    "CASE WHEN Concur.import.Concur_Users.GlobalGrade = PMDM.import.ActiveEmployeeReport_PRD.GRADE THEN 'True' ELSE 'False' END AS GlobalGrade_Match, Concur.import.Concur_Users.LoS AS Con_LoS, \n",
    "CASE WHEN Concur.import.Concur_Users.Active = 'Y' AND PMDM.import.ActiveEmployeeReport_PRD.EMPLOYMENT_STATUS IN ('Active', 'On Leave') THEN 'True' WHEN Concur.import.Concur_Users.Active = 'N' AND PMDM.import.ActiveEmployeeReport_PRD.EMPLOYMENT_STATUS != NULL THEN 'True' ELSE 'False' END AS Status_Match\n"
   ]
  },
  {
   "cell_type": "code",
   "execution_count": null,
   "metadata": {},
   "outputs": [],
   "source": [
    "SELECT        merged.Workday.Party_ID AS WD_PartyID, Replicon.import.Replicon_PeopleData.PartyID AS Rep_PartyID, merged.Workday.LE_ID AS WD_LE_ID, Replicon.import.Replicon_PeopleData.LegalEntityCode AS Rep_LE_ID, \n",
    "                         merged.Workday.LE_Name AS WD_LE_Name, Replicon.import.Replicon_PeopleData.LegalEntity AS Rep_LE_Name, merged.Workday.Employee_ID AS WD_EmployeeID, \n",
    "                         Replicon.import.Replicon_PeopleData.WorkdayID AS Rep_EmployeeID, merged.Workday.Country AS WD_Country, Replicon.import.Replicon_PeopleData.Country AS Rep_Country, merged.Workday.Worker AS WD_Worker, \n",
    "                         Replicon.import.Replicon_PeopleData.UserName AS Rep_Employee, merged.Workday.CC_Code AS WD_CC_Code, Replicon.import.Replicon_PeopleData.CostCenterCode AS Rep_CC_Code, \n",
    "                         merged.Workday.CC_Name AS WD_CC_Name, Replicon.import.Replicon_PeopleData.CostCenter AS Rep_CC_Name, merged.Workday.GUID AS WD_GUID, Replicon.import.Replicon_PeopleData.LoginName AS Rep_GUID, \n",
    "                         merged.Workday.Employee_Status AS WD_Status, Replicon.import.Replicon_PeopleData.UserStatus AS Rep_Status, merged.Workday.Hire_Date AS WD_HireDate, \n",
    "                         Replicon.import.Replicon_PeopleData.UserStartDate AS Rep_HireDate, merged.Workday.Termination_Date AS WD_TerminationDate, Replicon.import.Replicon_PeopleData.UserEndDate AS Rep_TerminationDate, \n",
    "                         merged.Workday.Management_Level AS WD_Grade, Replicon.import.Replicon_PeopleData.Grade AS Rep_Grade, merged.Workday.LoS AS WD_LoS, Replicon.import.Replicon_PeopleData.LineOfServices AS Rep_LoS, \n",
    "                         merged.Workday.Email AS WD_Email, Replicon.import.Replicon_PeopleData.UserEmail AS Rep_Email\n",
    "FROM            Replicon.import.Replicon_PeopleData INNER JOIN\n",
    "                         merged.Workday ON Replicon.import.Replicon_PeopleData.PartyID = merged.Workday.Party_ID AND Replicon.import.Replicon_PeopleData.LegalEntityCode = merged.Workday.LE_ID"
   ]
  },
  {
   "cell_type": "code",
   "execution_count": null,
   "metadata": {},
   "outputs": [],
   "source": [
    "SELECT        merged.Workday.Country AS WD_Country, Replicon.import.Replicon_PeopleData.Country AS Rep_Country, merged.Workday.Worker, Replicon.import.Replicon_PeopleData.UserName, merged.Workday.Party_ID, \n",
    "                         Replicon.import.Replicon_PeopleData.PartyID, merged.Workday.CC_Code, Replicon.import.Replicon_PeopleData.CostCenterCode, Replicon.import.Replicon_PeopleData.CostCenter, merged.Workday.LE_ID, \n",
    "                         Replicon.import.Replicon_PeopleData.LegalEntityCode, merged.Workday.Employee_ID, Replicon.import.Replicon_PeopleData.WorkdayID, merged.Workday.GUID, Replicon.import.Replicon_PeopleData.LoginName, \n",
    "                         merged.Workday.Employee_Status, Replicon.import.Replicon_PeopleData.UserStartDate, merged.Workday.Management_Level, Replicon.import.Replicon_PeopleData.Grade, merged.Workday.CC_Name, \n",
    "                         merged.Workday.LE_Name, merged.Workday.LoS, Replicon.import.Replicon_PeopleData.LineOfServices, merged.Workday.Job_Category, Replicon.import.Replicon_PeopleData.LegalEntity, \n",
    "                         Replicon.import.Replicon_PeopleData.UserEmail, merged.Workday.Email, Replicon.import.Replicon_PeopleData.EmployeeType, Replicon.import.Replicon_PeopleData.UserStatus, \n",
    "                         Replicon.import.Replicon_PeopleData.UserEndDate, merged.Workday.Hire_Date\n",
    "FROM            Replicon.import.Replicon_PeopleData INNER JOIN\n",
    "                         merged.Workday ON Replicon.import.Replicon_PeopleData.PartyID = merged.Workday.Party_ID AND Replicon.import.Replicon_PeopleData.LegalEntityCode = merged.Workday.LE_ID"
   ]
  },
  {
   "cell_type": "code",
   "execution_count": null,
   "metadata": {},
   "outputs": [],
   "source": [
    "CASE WHEN PMDM.import.ActiveEmployeeReport_PRD.ENGLISH_NAME IN (Replicon.import.Replicon_PeopleData.UserName) THEN 'True' ELSE 'False' END AS Country_Match, \n",
    "CASE WHEN Replicon.import.Replicon_PeopleData.Country = PMDM.import.ActiveEmployeeReport_PRD.LEGAL_ENTITY_COUNTRY THEN 'True' ELSE 'False' END AS Country_Match, \n",
    "CASE WHEN Replicon.import.Replicon_PeopleData.PartyID = PMDM.import.ActiveEmployeeReport_PRD.PARTY_ID THEN 'True' ELSE 'False' END AS Country_Match, \n",
    "CASE WHEN Replicon.import.Replicon_PeopleData.WorkdayID = PMDM.import.ActiveEmployeeReport_PRD.WORKDAY_EMPLOYEE_ID THEN 'True' ELSE 'False' END AS Country_Match, \n",
    "CASE WHEN Replicon.import.Replicon_PeopleData.LegalEntity = PMDM.import.ActiveEmployeeReport_PRD.LEGAL_ENTITY_NAME THEN 'True' ELSE 'False' END AS LE_Name_Match, \n",
    "CASE WHEN Replicon.import.Replicon_PeopleData.LegalEntityCode = PMDM.import.ActiveEmployeeReport_PRD.LEGAL_ENTITY_PARTY_ID THEN 'True' ELSE 'False' END AS LE_ID_Match, \n",
    "CASE WHEN Replicon.import.Replicon_PeopleData.CostCenterCode = PMDM.import.ActiveEmployeeReport_PRD.ORD_COST_CENTER_CODE THEN 'True' ELSE 'False' END AS CC_Code_Match, \n",
    "CASE WHEN Replicon.import.Replicon_PeopleData.UserEmail = PMDM.import.ActiveEmployeeReport_PRD.CLOUD_MAIL THEN 'True' ELSE 'False' END AS Email_Match,\n",
    "CASE WHEN Replicon.import.Replicon_PeopleData.CostCenter = PMDM.import.ActiveEmployeeReport_PRD.COST_CENTER_DESCRIPTION THEN 'True' ELSE 'False' END AS CC_Name_Match, \n",
    "CASE WHEN Replicon.import.Replicon_PeopleData.Grade = PMDM.import.ActiveEmployeeReport_PRD.GRADE THEN 'True' ELSE 'False' END AS GlobalGrade_Match,\n",
    "CASE WHEN Replicon.import.Replicon_PeopleData.UserStatus = 'Enabled' AND PMDM.import.ActiveEmployeeReport_PRD.EMPLOYMENT_STATUS IN ('Active', 'On Leave') THEN 'True' WHEN Replicon.import.Replicon_PeopleData.UserStatus = 'Disabled' AND PMDM.import.ActiveEmployeeReport_PRD.EMPLOYMENT_STATUS != NULL THEN 'True' ELSE 'False' END AS Status_Match,\n",
    "CASE WHEN Replicon.import.Replicon_PeopleData.UserStartDate = PMDM.import.ActiveEmployeeReport_PRD.HIRE_DATE THEN 'True' ELSE 'False' END AS HireDate_Match, \n",
    "CASE WHEN Replicon.import.Replicon_PeopleData.UserEndDate = PMDM.import.ActiveEmployeeReport_PRD.TERMINATION_DATE THEN 'True' ELSE 'False' END AS TerminationDate_Match"
   ]
  }
 ],
 "metadata": {
  "kernelspec": {
   "display_name": "Python 3",
   "language": "python",
   "name": "python3"
  },
  "language_info": {
   "codemirror_mode": {
    "name": "ipython",
    "version": 3
   },
   "file_extension": ".py",
   "mimetype": "text/x-python",
   "name": "python",
   "nbconvert_exporter": "python",
   "pygments_lexer": "ipython3",
   "version": "3.8.5"
  }
 },
 "nbformat": 4,
 "nbformat_minor": 4
}
