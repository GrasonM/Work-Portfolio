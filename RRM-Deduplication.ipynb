{
 "cells": [
  {
   "cell_type": "code",
   "execution_count": 2,
   "metadata": {},
   "outputs": [
    {
     "ename": "SyntaxError",
     "evalue": "'continue' not properly in loop (<ipython-input-2-6ccfe1a00a88>, line 109)",
     "output_type": "error",
     "traceback": [
      "\u001b[1;36m  File \u001b[1;32m\"<ipython-input-2-6ccfe1a00a88>\"\u001b[1;36m, line \u001b[1;32m109\u001b[0m\n\u001b[1;33m    continue\u001b[0m\n\u001b[1;37m    ^\u001b[0m\n\u001b[1;31mSyntaxError\u001b[0m\u001b[1;31m:\u001b[0m 'continue' not properly in loop\n"
     ]
    }
   ],
   "source": [
    "import requests\n",
    "import urllib\n",
    "import itertools\n",
    "from requests.exceptions import ConnectionError, HTTPError, Timeout, TooManyRedirects\n",
    "from requests.adapters import HTTPAdapter\n",
    "from requests.packages.urllib3.util.retry import Retry\n",
    "import traceback\n",
    "import logging\n",
    "import logging.handlers\n",
    "from bs4 import BeautifulSoup\n",
    "import pandas as pd\n",
    "import numpy as np\n",
    "import pyodbc\n",
    "import sqlalchemy as sa\n",
    "from sqlalchemy import create_engine, event\n",
    "import json\n",
    "import time as ti\n",
    "import datetime\n",
    "from datetime import datetime\n",
    "import re\n",
    "import os\n",
    "import asyncio\n",
    "from ipywidgets import interact, interactive, fixed, interact_manual, Layout\n",
    "import ipywidgets as widgets\n",
    "import ctypes\n",
    "import threading\n",
    "\n",
    "global conn\n",
    "conn = False\n",
    "con = None\n",
    "\n",
    "filepath = '\\\\GX-ZWESQLPWV326.glblcloud.ad.pwcinternal.com\\RRM\\Data\\RRM_Data_Load\\GlobalDuplicateExceptionReport\\Global\\GlobalDuplicateExceptionReport.xlsx'\n",
    "try:\n",
    "    \n",
    "    logging.basicConfig(filename = 'RRMDuplicateExceptions.log',\n",
    "                        filemode='a',\n",
    "                        format='%(asctime)s,%(msecs)d %(name)s %(levelname)s %(message)s',\n",
    "                        datefmt='%H:%M:%S',\n",
    "                        level=logging.DEBUG)\n",
    "    logging.info(f'\\nLOG START: {datetime.now()}\\n')\n",
    "\n",
    "    def open_connection():\n",
    "        global server, database, driver, connection, con\n",
    "        with open(r'config\\config.json', 'r') as fh:\n",
    "            config = json.load(fh)\n",
    "        server = 'GX-ZWESQLPWV326.glblcloud.ad.pwcinternal.com,14330'\n",
    "        database = 'RRM'\n",
    "        username = 'Reports_GIOPS'\n",
    "        password = 'gkMcHp3sm43W8Q7yec'\n",
    "        driver = config['driver']\n",
    "        connection = f'DRIVER={driver};SERVER={server};DATABASE={database};UID={username};PWD={password}'\n",
    "        con = pyodbc.connect(connection)\n",
    "        return con\n",
    "        \n",
    "    def connection_test():\n",
    "        cur = con.cursor()\n",
    "        cur.execute(\"SELECT @@version\")\n",
    "        row = cur.fetchone()\n",
    "        print(\"Connection established to: \",row[0])\n",
    "        cur.close()\n",
    "        con.commit()\n",
    "        logging.info(f\"\\nConnection established to: {row[0]}\\n\")\n",
    "        return \n",
    "            \n",
    "    def close_connection():\n",
    "        con.close()\n",
    "        conn = False\n",
    "        return\n",
    "    \n",
    "    def execution_check():\n",
    "        cur = con.cursor()\n",
    "        cur.execute(\"SELECT * FROM RRMAudit as RA WHERE RA.Process = 'Duplicate_Exception_Report' and RA.status = 1\")\n",
    "        row = cur.fetchone()\n",
    "        if row is None:\n",
    "            print(f'\\n{row}\\n')\n",
    "            cur.close()\n",
    "            con.commit()\n",
    "            logging.info(f\"Status: {row}\\n\")\n",
    "            return False\n",
    "        else:\n",
    "            output = row[0]\n",
    "            print(f'\\n{output}\\n')\n",
    "            cur.close()\n",
    "            con.commit()\n",
    "            logging.info(f\"Status: {output[0]}\\n\")\n",
    "            return True\n",
    "    \n",
    "    def get_TerritoryCode():\n",
    "        cur = con.cursor()\n",
    "        cur.execute(\"SELECT RRMTerritoryCode, isnull([terremailid],'') as [terr_email_id],isnull([Secondaryemailid],'') as [Secondary_email_id] FROM [RRM].[dbo].[RRMDuplicateExceptionReport] a inner join RRMcountrynetworkdescriptor b on a.PwCNetworkNodeName=b.PwCNetworkDescriptor\")\n",
    "        output = cur.fetchall()\n",
    "        print(f'\\n{output[0:]}\\n')\n",
    "        cur.close()\n",
    "        con.commit()\n",
    "        logging.info(f\"Territories: {output}\\n\")\n",
    "        \n",
    "    def start_report():\n",
    "        cur = con.cursor()\n",
    "        cur.execute(\"INSERT INTO RRMAudit (Process,startdate,status) values('Duplicate_Exception_Report',getdate(),1)\")\n",
    "        print(f'\\n{output[0:]}\\n')\n",
    "        cur.close()\n",
    "        con.commit()\n",
    "        logging.info(f\"\\nDuplicate Exceptions Report Started\\n\")\n",
    "        \n",
    "    def delete_previous_report():\n",
    "        if os.path.exists(f\"{filepath}\") == True:\n",
    "            os.remove(f\"{filepath}\")\n",
    "        else:\n",
    "            continue\n",
    "            \n",
    "    def start_report():\n",
    "        cur = con.cursor()\n",
    "        cur.execute(\"exec [RRMDuplicateException]\")\n",
    "        print(f'\\n{output[0:]}\\n')\n",
    "        cur.close()\n",
    "        con.commit()\n",
    "        logging.info(f\"\\nDuplicate Exceptions Report Started\\n\")\n",
    "    \n",
    "#exceptions \n",
    "except (Exception, pyodbc.DatabaseError) as error:\n",
    "        print(error)\n",
    "        logging.exception(\"message\")\n",
    "        pass\n",
    "    \n",
    "except requests.exceptions.HTTPError as errh:\n",
    "    print(\"Http Error:\",  errh)\n",
    "    conn = False\n",
    "    logging.exception(\"message\")\n",
    "    \n",
    "except requests.exceptions.ConnectionError as errc:\n",
    "    print(\"Error Connecting:\", errc)\n",
    "    conn = False\n",
    "    logging.exception(\"message\")\n",
    "    \n",
    "except requests.exceptions.Timeout as errt:\n",
    "    print(\"Timeout Error:\", errt)\n",
    "    conn = False\n",
    "    logging.exception(\"message\")\n",
    "    \n",
    "except requests.exceptions.RequestException as erru:\n",
    "    print(\"Unidentified Request Exception:\", erru)\n",
    "    conn = False\n",
    "    logging.exception(\"message\")\n",
    "        \n",
    "finally:\n",
    "    logging.info(f'\\nLOG END: {datetime.now()}\\n')\n",
    "    if conn == True:\n",
    "        close_connection()\n",
    "        cur.close()"
   ]
  },
  {
   "cell_type": "code",
   "execution_count": 56,
   "metadata": {},
   "outputs": [
    {
     "data": {
      "text/plain": [
       "<pyodbc.Connection at 0x1e7baa80100>"
      ]
     },
     "execution_count": 56,
     "metadata": {},
     "output_type": "execute_result"
    }
   ],
   "source": [
    "open_connection()"
   ]
  },
  {
   "cell_type": "code",
   "execution_count": 22,
   "metadata": {},
   "outputs": [
    {
     "name": "stdout",
     "output_type": "stream",
     "text": [
      "Connection established to:  Microsoft SQL Server 2017 (RTM-CU22-GDR) (KB4583457) - 14.0.3370.1 (X64) \n",
      "\tNov  6 2020 18:19:52 \n",
      "\tCopyright (C) 2017 Microsoft Corporation\n",
      "\tEnterprise Edition: Core-based Licensing (64-bit) on Windows Server 2016 Datacenter 10.0 <X64> (Build 14393: ) (Hypervisor)\n",
      "\n"
     ]
    }
   ],
   "source": [
    "connection_test()"
   ]
  },
  {
   "cell_type": "code",
   "execution_count": 46,
   "metadata": {},
   "outputs": [
    {
     "name": "stdout",
     "output_type": "stream",
     "text": [
      "\n",
      "None\n",
      "\n"
     ]
    },
    {
     "data": {
      "text/plain": [
       "False"
      ]
     },
     "execution_count": 46,
     "metadata": {},
     "output_type": "execute_result"
    }
   ],
   "source": [
    "execution_check()"
   ]
  },
  {
   "cell_type": "code",
   "execution_count": 3,
   "metadata": {},
   "outputs": [
    {
     "ename": "NameError",
     "evalue": "name 'close_connection' is not defined",
     "output_type": "error",
     "traceback": [
      "\u001b[1;31m---------------------------------------------------------------------------\u001b[0m",
      "\u001b[1;31mNameError\u001b[0m                                 Traceback (most recent call last)",
      "\u001b[1;32m<ipython-input-3-cca74bfd98ee>\u001b[0m in \u001b[0;36m<module>\u001b[1;34m\u001b[0m\n\u001b[1;32m----> 1\u001b[1;33m \u001b[0mclose_connection\u001b[0m\u001b[1;33m(\u001b[0m\u001b[1;33m)\u001b[0m\u001b[1;33m\u001b[0m\u001b[1;33m\u001b[0m\u001b[0m\n\u001b[0m",
      "\u001b[1;31mNameError\u001b[0m: name 'close_connection' is not defined"
     ]
    }
   ],
   "source": [
    "close_connection()"
   ]
  },
  {
   "cell_type": "code",
   "execution_count": 57,
   "metadata": {},
   "outputs": [
    {
     "name": "stderr",
     "output_type": "stream",
     "text": [
      "IOPub data rate exceeded.\n",
      "The notebook server will temporarily stop sending output\n",
      "to the client in order to avoid crashing it.\n",
      "To change this limit, set the config variable\n",
      "`--NotebookApp.iopub_data_rate_limit`.\n",
      "\n",
      "Current values:\n",
      "NotebookApp.iopub_data_rate_limit=1000000.0 (bytes/sec)\n",
      "NotebookApp.rate_limit_window=3.0 (secs)\n",
      "\n"
     ]
    }
   ],
   "source": [
    "get_TerritoryCode()"
   ]
  },
  {
   "cell_type": "code",
   "execution_count": null,
   "metadata": {},
   "outputs": [],
   "source": []
  }
 ],
 "metadata": {
  "kernelspec": {
   "display_name": "Python 3",
   "language": "python",
   "name": "python3"
  },
  "language_info": {
   "codemirror_mode": {
    "name": "ipython",
    "version": 3
   },
   "file_extension": ".py",
   "mimetype": "text/x-python",
   "name": "python",
   "nbconvert_exporter": "python",
   "pygments_lexer": "ipython3",
   "version": "3.8.5"
  }
 },
 "nbformat": 4,
 "nbformat_minor": 4
}
