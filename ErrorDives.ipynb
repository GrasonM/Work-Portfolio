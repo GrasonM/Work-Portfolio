{
 "cells": [
  {
   "cell_type": "code",
   "execution_count": 4,
   "metadata": {},
   "outputs": [],
   "source": [
    "def errors():\n",
    "    error = {\n",
    "              \"type\": \"https://tools.ietf.org/html/rfc7231#section-6.6.1\",\n",
    "              \"title\": \"An error occured while processing your request.\",\n",
    "              \"status\": 500,\n",
    "              \"detail\": \"Microsoft.Rest.Azure.CloudException: Long running operation failed with status 'BadRequest'.\\r\\n   at Microsoft.Rest.ClientRuntime.Azure.LRO.LROPollState`2.CheckErrorStatusAndThrowAsync(HttpRequestMessage request, HttpResponseMessage response)\\r\\n   at Microsoft.Rest.ClientRuntime.Azure.LRO.LROPollState`2.GetRawAsync(Dictionary`2 customHeaders, CancellationToken cancellationToken)\\r\\n   at Microsoft.Rest.ClientRuntime.Azure.LRO.LROPollState`2.UpdateResourceFromPollingUri(Dictionary`2 customHeaders, CancellationToken cancellationToken)\\r\\n   at Microsoft.Rest.ClientRuntime.Azure.LRO.LROPollState`2.Poll(Dictionary`2 customHeaders, CancellationToken cancellationToken)\\r\\n   at Microsoft.Rest.ClientRuntime.Azure.LRO.AzureLRO`2.StartPollingAsync()\\r\\n   at Microsoft.Rest.ClientRuntime.Azure.LRO.AzureLRO`2.BeginLROAsync()\\r\\n   at Microsoft.Rest.Azure.AzureClientExtensions.GetLongRunningOperationResultAsync[TBody,THeader](IAzureClient client, AzureOperationResponse`2 response, Dictionary`2 customHeaders, CancellationToken cancellationToken)\\r\\n   at Microsoft.Rest.Azure.AzureClientExtensions.GetPutOrPatchOperationResultAsync[TBody,THeader](IAzureClient client, AzureOperationResponse`2 response, Dictionary`2 customHeaders, CancellationToken cancellationToken)\\r\\n   at Microsoft.Azure.Management.ApiManagement.ApiOperations.CreateOrUpdateWithHttpMessagesAsync(String resourceGroupName, String serviceName, String apiId, ApiCreateOrUpdateParameter parameters, String ifMatch, Dictionary`2 customHeaders, CancellationToken cancellationToken)\\r\\n   at Microsoft.Azure.Management.ApiManagement.ApiOperationsExtensions.CreateOrUpdateAsync(IApiOperations operations, String resourceGroupName, String serviceName, String apiId, ApiCreateOrUpdateParameter parameters, String ifMatch, CancellationToken cancellationToken)\\r\\n   at Gif.Business.Managers.AzureApimManager.CreateApimApiRevisionAsync(AzContext context, String apiId, ApiUpdateModel updateModel, Int32 producerAppId) in C:\\\\AzPipelinesAgents\\\\Agent1\\\\_work\\\\5\\\\s\\\\cli\\\\Cli.Business\\\\Managers\\\\AzureApimManager.cs:line 325\\r\\n   at Gif.Services.Controllers.Data.AzureApimService.HandleCreateApiRevision(Int32 appId, String apiName, ApiUpdateModel updateModel) in C:\\\\AzPipelinesAgents\\\\Agent1\\\\_work\\\\5\\\\s\\\\services\\\\gif-services\\\\Controllers\\\\Data\\\\AzureApimService.cs:line 257\",\n",
    "              \"traceId\": \"00-2e103e9c0cd31d4eb6cd51fcfea77e38-2284ec84c0201c47-00\"\n",
    "            }\n",
    "    display(error)"
   ]
  },
  {
   "cell_type": "code",
   "execution_count": 5,
   "metadata": {},
   "outputs": [
    {
     "data": {
      "text/plain": [
       "{'type': 'https://tools.ietf.org/html/rfc7231#section-6.6.1',\n",
       " 'title': 'An error occured while processing your request.',\n",
       " 'status': 500,\n",
       " 'detail': \"Microsoft.Rest.Azure.CloudException: Long running operation failed with status 'BadRequest'.\\r\\n   at Microsoft.Rest.ClientRuntime.Azure.LRO.LROPollState`2.CheckErrorStatusAndThrowAsync(HttpRequestMessage request, HttpResponseMessage response)\\r\\n   at Microsoft.Rest.ClientRuntime.Azure.LRO.LROPollState`2.GetRawAsync(Dictionary`2 customHeaders, CancellationToken cancellationToken)\\r\\n   at Microsoft.Rest.ClientRuntime.Azure.LRO.LROPollState`2.UpdateResourceFromPollingUri(Dictionary`2 customHeaders, CancellationToken cancellationToken)\\r\\n   at Microsoft.Rest.ClientRuntime.Azure.LRO.LROPollState`2.Poll(Dictionary`2 customHeaders, CancellationToken cancellationToken)\\r\\n   at Microsoft.Rest.ClientRuntime.Azure.LRO.AzureLRO`2.StartPollingAsync()\\r\\n   at Microsoft.Rest.ClientRuntime.Azure.LRO.AzureLRO`2.BeginLROAsync()\\r\\n   at Microsoft.Rest.Azure.AzureClientExtensions.GetLongRunningOperationResultAsync[TBody,THeader](IAzureClient client, AzureOperationResponse`2 response, Dictionary`2 customHeaders, CancellationToken cancellationToken)\\r\\n   at Microsoft.Rest.Azure.AzureClientExtensions.GetPutOrPatchOperationResultAsync[TBody,THeader](IAzureClient client, AzureOperationResponse`2 response, Dictionary`2 customHeaders, CancellationToken cancellationToken)\\r\\n   at Microsoft.Azure.Management.ApiManagement.ApiOperations.CreateOrUpdateWithHttpMessagesAsync(String resourceGroupName, String serviceName, String apiId, ApiCreateOrUpdateParameter parameters, String ifMatch, Dictionary`2 customHeaders, CancellationToken cancellationToken)\\r\\n   at Microsoft.Azure.Management.ApiManagement.ApiOperationsExtensions.CreateOrUpdateAsync(IApiOperations operations, String resourceGroupName, String serviceName, String apiId, ApiCreateOrUpdateParameter parameters, String ifMatch, CancellationToken cancellationToken)\\r\\n   at Gif.Business.Managers.AzureApimManager.CreateApimApiRevisionAsync(AzContext context, String apiId, ApiUpdateModel updateModel, Int32 producerAppId) in C:\\\\AzPipelinesAgents\\\\Agent1\\\\_work\\\\5\\\\s\\\\cli\\\\Cli.Business\\\\Managers\\\\AzureApimManager.cs:line 325\\r\\n   at Gif.Services.Controllers.Data.AzureApimService.HandleCreateApiRevision(Int32 appId, String apiName, ApiUpdateModel updateModel) in C:\\\\AzPipelinesAgents\\\\Agent1\\\\_work\\\\5\\\\s\\\\services\\\\gif-services\\\\Controllers\\\\Data\\\\AzureApimService.cs:line 257\",\n",
       " 'traceId': '00-2e103e9c0cd31d4eb6cd51fcfea77e38-2284ec84c0201c47-00'}"
      ]
     },
     "metadata": {},
     "output_type": "display_data"
    }
   ],
   "source": [
    "errors()"
   ]
  },
  {
   "cell_type": "code",
   "execution_count": null,
   "metadata": {},
   "outputs": [],
   "source": [
    "https://swagger.io/\n",
    "    swagger.inspector for json file error testing"
   ]
  }
 ],
 "metadata": {
  "kernelspec": {
   "display_name": "Python 3",
   "language": "python",
   "name": "python3"
  },
  "language_info": {
   "codemirror_mode": {
    "name": "ipython",
    "version": 3
   },
   "file_extension": ".py",
   "mimetype": "text/x-python",
   "name": "python",
   "nbconvert_exporter": "python",
   "pygments_lexer": "ipython3",
   "version": "3.8.5"
  }
 },
 "nbformat": 4,
 "nbformat_minor": 4
}
