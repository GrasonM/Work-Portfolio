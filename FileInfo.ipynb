{
 "cells": [
  {
   "cell_type": "code",
   "execution_count": 9,
   "id": "ad3e6ad6",
   "metadata": {},
   "outputs": [],
   "source": [
    "import os\n",
    "import hl7\n",
    "#from hl7.xml import parse\n",
    "#import hl7apy\n",
    "from hl7apy import set_default_version, parser\n",
    "#from hl7apy.core import Message\n",
    "#from hl7apy.exceptions import UnsupportedVersion, InvalidEncodingChars\n",
    "\n",
    "path = '//dohjl-epi232/HL7_Messages/processed/2015'\n",
    "\n",
    "def filecontent():\n",
    "    for filename in os.listdir(path):\n",
    "        if filename.endswith('.obx'):\n",
    "            with open(os.path.join(path,filename), 'r',encoding = 'UTF-8') as f:\n",
    "                h = [line.rstrip('\\n') for line in f]\n",
    "            #print(f'{hl7}\\n')\n",
    "            \n",
    "            print(f'{h[1]}\\n')\n",
    "            \n",
    "            #try:\n",
    "            #    m = parser.parse_message(hl7)\n",
    "            #    print(f'{m}\\n')\n",
    "            #except UnsupportedVersion:\n",
    "            #    m = parser.parse_message(hl7.replace('\\n','\\r'))\n",
    "            #    m = parser.parse_message(hl7.split('\\r'))\n",
    "            #    print(f'{m}\\n')\n",
    "            #except InvalidEncodingChars:\n",
    "            #    print('DUPLICATE?')\n",
    "            #    print(f'{m}\\n')\n",
    "            #    print(hl7)\n",
    "            #    continue\n",
    "            #return #print(m.obx.obx_1.value)"
   ]
  },
  {
   "cell_type": "code",
   "execution_count": 10,
   "id": "14cfaa4d",
   "metadata": {
    "scrolled": false
   },
   "outputs": [
    {
     "name": "stdout",
     "output_type": "stream",
     "text": [
      "PID|1||C3921240||GONZALES^FELIX^T O||20100122|M||W|402 5TH AVE E APT 208^^WEST FARGO^ND^58078^USA||^PRN^7^^^701^7930832|||||||||N||||||||N\n",
      "\n",
      "PID|1||E3832318||Tripp^Lila^Jolynne||20131127|F||W|2085 46TH AVE SE^^PETTIBONE^ND^58475^USA^H||^PRN^PH^^1^701^3689905|||||||||2135-2||||||||N\n",
      "\n",
      "PID|1||C4700684||BLANKINSHIP^LUMEN^J||20110804|F||W|2865 SAMUEL DR S^^FARGO^ND^58104^USA||^PRN^7^^^701^6303245|||||||||N||||||||N\n",
      "\n",
      "PID|1||148540||Champagne^Anna^M||19590610|F||I|3851 Bia Road 8^^BELCOURT^ND^58316^USA^C||^PRN^PH^^^701^2780231|||||||||N\n",
      "\n",
      "PID|1||148540||Champagne^Anna^M||19590610|F||I|3851 Bia Road 8^^BELCOURT^ND^58316^USA^C||^PRN^PH^^^701^2780231|||||||||N\n",
      "\n",
      "PID|1||54516||Lafromboise^Tonna^M||19680525|F||I|Po Box 2131^^Belcourt^ND^58316^USA^C||^PRN^PH^^^701^2445162|||||||||N\n",
      "\n",
      "PID|1||M120787864||PHIPPS^GRANT^M||19530218|M||U|14877 49TH ST SE^^LEONARD^ND^58052||^^^^^701^6459031|||||7031710\n",
      "\n",
      "PID|1||M120795592||EDLIN^MEGAN^R||19670902|F||U|1508 S 14TH ST APT 3^^GRAND FORKS^ND^58201||^^^^^701^7720955|||||7007050\n",
      "\n",
      "PID|1||7453202||ALGHANMI^ABDULRAHMAN||19940211|M||U|1701 36TH AVENUE SOUTH,^^GRAND FORKS^ND^582017380|||||||MAYO\n",
      "\n",
      "PID|1||M120790320||WILLIAMS^THOMAS^A||19540628|M||U|514 WESTERN AVE^^GRAFTON^ND^58237||^^^^^701^3521491|||||7032457\n",
      "\n",
      "PID|1||M120785408||LAFROMBOISE^TONNA^M||19680525|F||U|||^^^^^701^2445162|||||7001826\n",
      "\n",
      "PID|1||M120795382||LEE^JEFFERY||19660218|M||U|809 10TH ST S APT 7^^FARGO^ND^58103||^^^^^712^2038878|||||7032457\n",
      "\n",
      "PID|1||M120800363||KOK^TINA^M||19620223|F||U|2709 15TH ST S APT 202^^FARGO^ND^58103||^^^^^701^4034120|||||7032457\n",
      "\n",
      "PID|1||M120800877||INGRAHAM^BRIAN^C||19770407|M||U|PO BOX 219^^LINTON^ND^58552||^^^^^701^3299115|||||7033721\n",
      "\n",
      "PID|1||M120800878||INGRAHAM^BRIAN^C||19770407|M||U|PO BOX 219^^LINTON^ND^58552||^^^^^701^3299115|||||7033721\n",
      "\n",
      "PID|1||M120778887||KINGBIRD^HARLAN||19521031|M||U||||||||7028129\n",
      "\n",
      "PID|1||C4348855||SCHLENKER^NAOM^F||19360417|F||W|2414 24TH AVE S^^FARGO^ND^58103^USA||^PRN^7^^^701^2326969|||||||||N||||||||N\n",
      "\n",
      "PID|1||E3345915||Foote^Gary^R||19821227|M||I|PO BOX 431^^NEW TOWN^ND^58763^USA^H||^PRN^PH^^1^701^4218075|||||||||2186-5||||||||N\n",
      "\n",
      "PID|1||E1595621||Abdullahi^Abdullahi^Ahmed||20030825|M||B|4801 17 AVE S APT 201^^FARGO^ND^58103^USA^H||^PRN^PH^^1^701^5664679|||||||||2186-5||||||||N\n",
      "\n",
      "PID|1||E2437207||Schneider^Gladys||19270930|F||W|C/O DIANE STROM^1439 3RD AVE SOUTH^FARGO^ND^58103^USA^H||^PRN^PH^^1^701^2936788|||||||||2186-5||||||||N\n",
      "\n",
      "PID|1||E4178744||Whitmire^Kayden||20140227|M||W|4212 CLARIDGE LOOP^^BISMARCK^ND^58503-7836^USA^H||^PRN^PH^^1^701^5276301|||||||||2186-5||||||||N\n",
      "\n",
      "PID|1||E2115805||Kolegraf^Marjorie^Lorraine||19211005|F||W|1610 SUNTREE DR^^WEST FARGO^ND^58078^USA^H||^PRN^PH^^1^701^2988132|||||||||2186-5||||||||N\n",
      "\n",
      "PID|1||E2050132||Jeanotte^Keri^Marie||19740627|F||I|518 OAK ST^^GRAND FORKS^ND^58201^USA^H||^PRN^PH^^1^701^3175294|||||||||2186-5||||||||N\n",
      "\n",
      "PID|1||E3015958||Siroshton^Rebecca^B||19741107|F||W|4195 28TH ST^^NEW SALEM^ND^58563^USA^H||^PRN^PH^^1^701^3017792|||||||||2186-5||||||||N\n",
      "\n",
      "PID|1||E4328697||Burch^Raigen^A||20140213|F||W|PO BOX 13^^BURLINGTON^ND^58722^USA^H||^PRN^PH^^1^509^6546488|||||||||2186-5||||||||N\n",
      "\n",
      "PID|1||E1817922||Declercq^Jessica^D||19810918|F||W|2749 HERITAGE DR^^MINOT^ND^58703^USA^H||^PRN^PH^^1^701^8936644|||||||||2186-5||||||||N\n",
      "\n",
      "PID|1||E3556924||Rodriguez^Hennessy||19850828|F||W|855 2ND AVE EAST^^DICKINSON^ND^58601^USA^H||^PRN^PH^^1^701^2602265|||||||||2135-2||||||||N\n",
      "\n",
      "PID|1||E1723717||Booth^Megan^Marie||19851220|F||W|916 7TH ST S^^FARGO^ND^58103^USA^H||^PRN^PH^^1^701^3671676|||||||||2186-5||||||||N\n",
      "\n",
      "PID|1||E3817138||Bandy^Crystal^Iris||19951112|F||W|2402 NORTH FLICKERTAIL DR S APT 5^^FARGO^ND^58103^USA^H||^PRN^PH^^1^701^7994907|||||||||2186-5||||||||N\n",
      "\n",
      "PID|1||E2465450||Singer^Jamie^Mae||19890916|F||W|1315 8TH AVE N APT 2^^FARGO^ND^58102^USA^H||^PRN^PH^^1^701^2323337|||||||||2186-5||||||||N\n",
      "\n",
      "PID|1||E3967088||Mahlum^Kynslee^E||20111006|F||W|3416 TIMBER TRL SE^^MINOT^ND^58701^USA^H||^PRN^PH^^1^701^2402685|||||||||2186-5||||||||N\n",
      "\n",
      "PID|1||E3275218||Bosch^Gwyn^L||19730329|F||W|PO BOX 68^^STANTON^ND^58571^USA^H||^PRN^PH^^1^701^4000462|||||||||2186-5||||||||N\n",
      "\n",
      "PID|1||C3793158||CHARBONEAU^CIERA^R||20091114|F||I|107 D ST^^WEST FARGO^ND^58078^USA||^PRN^7^^^701^5410925|||||||||N||||||||N\n",
      "\n",
      "PID|1||C4814941||MORSETTE^JAMISON^A||20131030|M||B|GENERAL DELIVERY^^FARGO^ND^58102^USA||^PRN^7^^^612^5596776|||||||||N||||||||N\n",
      "\n"
     ]
    },
    {
     "ename": "KeyboardInterrupt",
     "evalue": "",
     "output_type": "error",
     "traceback": [
      "\u001b[1;31m---------------------------------------------------------------------------\u001b[0m",
      "\u001b[1;31mKeyboardInterrupt\u001b[0m                         Traceback (most recent call last)",
      "Input \u001b[1;32mIn [10]\u001b[0m, in \u001b[0;36m<cell line: 1>\u001b[1;34m()\u001b[0m\n\u001b[1;32m----> 1\u001b[0m \u001b[43mfilecontent\u001b[49m\u001b[43m(\u001b[49m\u001b[43m)\u001b[49m\n",
      "Input \u001b[1;32mIn [9]\u001b[0m, in \u001b[0;36mfilecontent\u001b[1;34m()\u001b[0m\n\u001b[0;32m     12\u001b[0m \u001b[38;5;28;01mfor\u001b[39;00m filename \u001b[38;5;129;01min\u001b[39;00m os\u001b[38;5;241m.\u001b[39mlistdir(path):\n\u001b[0;32m     13\u001b[0m     \u001b[38;5;28;01mif\u001b[39;00m filename\u001b[38;5;241m.\u001b[39mendswith(\u001b[38;5;124m'\u001b[39m\u001b[38;5;124m.obx\u001b[39m\u001b[38;5;124m'\u001b[39m):\n\u001b[1;32m---> 14\u001b[0m         \u001b[38;5;28;01mwith\u001b[39;00m \u001b[38;5;28;43mopen\u001b[39;49m\u001b[43m(\u001b[49m\u001b[43mos\u001b[49m\u001b[38;5;241;43m.\u001b[39;49m\u001b[43mpath\u001b[49m\u001b[38;5;241;43m.\u001b[39;49m\u001b[43mjoin\u001b[49m\u001b[43m(\u001b[49m\u001b[43mpath\u001b[49m\u001b[43m,\u001b[49m\u001b[43mfilename\u001b[49m\u001b[43m)\u001b[49m\u001b[43m,\u001b[49m\u001b[43m \u001b[49m\u001b[38;5;124;43m'\u001b[39;49m\u001b[38;5;124;43mr\u001b[39;49m\u001b[38;5;124;43m'\u001b[39;49m\u001b[43m,\u001b[49m\u001b[43mencoding\u001b[49m\u001b[43m \u001b[49m\u001b[38;5;241;43m=\u001b[39;49m\u001b[43m \u001b[49m\u001b[38;5;124;43m'\u001b[39;49m\u001b[38;5;124;43mUTF-8\u001b[39;49m\u001b[38;5;124;43m'\u001b[39;49m\u001b[43m)\u001b[49m \u001b[38;5;28;01mas\u001b[39;00m f:\n\u001b[0;32m     15\u001b[0m             h \u001b[38;5;241m=\u001b[39m [line\u001b[38;5;241m.\u001b[39mrstrip(\u001b[38;5;124m'\u001b[39m\u001b[38;5;130;01m\\n\u001b[39;00m\u001b[38;5;124m'\u001b[39m) \u001b[38;5;28;01mfor\u001b[39;00m line \u001b[38;5;129;01min\u001b[39;00m f]\n\u001b[0;32m     16\u001b[0m         \u001b[38;5;66;03m#print(f'{hl7}\\n')\u001b[39;00m\n",
      "File \u001b[1;32m~\\Anaconda3\\lib\\codecs.py:309\u001b[0m, in \u001b[0;36mBufferedIncrementalDecoder.__init__\u001b[1;34m(self, errors)\u001b[0m\n\u001b[0;32m    303\u001b[0m \u001b[38;5;28;01mclass\u001b[39;00m \u001b[38;5;21;01mBufferedIncrementalDecoder\u001b[39;00m(IncrementalDecoder):\n\u001b[0;32m    304\u001b[0m     \u001b[38;5;124;03m\"\"\"\u001b[39;00m\n\u001b[0;32m    305\u001b[0m \u001b[38;5;124;03m    This subclass of IncrementalDecoder can be used as the baseclass for an\u001b[39;00m\n\u001b[0;32m    306\u001b[0m \u001b[38;5;124;03m    incremental decoder if the decoder must be able to handle incomplete\u001b[39;00m\n\u001b[0;32m    307\u001b[0m \u001b[38;5;124;03m    byte sequences.\u001b[39;00m\n\u001b[0;32m    308\u001b[0m \u001b[38;5;124;03m    \"\"\"\u001b[39;00m\n\u001b[1;32m--> 309\u001b[0m     \u001b[38;5;28;01mdef\u001b[39;00m \u001b[38;5;21m__init__\u001b[39m(\u001b[38;5;28mself\u001b[39m, errors\u001b[38;5;241m=\u001b[39m\u001b[38;5;124m'\u001b[39m\u001b[38;5;124mstrict\u001b[39m\u001b[38;5;124m'\u001b[39m):\n\u001b[0;32m    310\u001b[0m         IncrementalDecoder\u001b[38;5;241m.\u001b[39m\u001b[38;5;21m__init__\u001b[39m(\u001b[38;5;28mself\u001b[39m, errors)\n\u001b[0;32m    311\u001b[0m         \u001b[38;5;66;03m# undecoded input that is kept between calls to decode()\u001b[39;00m\n",
      "\u001b[1;31mKeyboardInterrupt\u001b[0m: "
     ]
    }
   ],
   "source": [
    "filecontent()"
   ]
  },
  {
   "cell_type": "code",
   "execution_count": null,
   "id": "8e363842",
   "metadata": {},
   "outputs": [],
   "source": []
  }
 ],
 "metadata": {
  "kernelspec": {
   "display_name": "Python 3 (ipykernel)",
   "language": "python",
   "name": "python3"
  },
  "language_info": {
   "codemirror_mode": {
    "name": "ipython",
    "version": 3
   },
   "file_extension": ".py",
   "mimetype": "text/x-python",
   "name": "python",
   "nbconvert_exporter": "python",
   "pygments_lexer": "ipython3",
   "version": "3.9.12"
  }
 },
 "nbformat": 4,
 "nbformat_minor": 5
}
