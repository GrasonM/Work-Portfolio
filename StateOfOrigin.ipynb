{
 "cells": [
  {
   "cell_type": "raw",
   "id": "7828c3cc",
   "metadata": {},
   "source": [
    "pip install hl7"
   ]
  },
  {
   "cell_type": "code",
   "execution_count": 122,
   "id": "3b8704f5",
   "metadata": {},
   "outputs": [
    {
     "name": "stdout",
     "output_type": "stream",
     "text": [
      "Requirement already satisfied: numba in c:\\users\\gmoye\\anaconda3\\lib\\site-packages (0.55.1)\n",
      "Requirement already satisfied: setuptools in c:\\users\\gmoye\\anaconda3\\lib\\site-packages (from numba) (61.2.0)\n",
      "Requirement already satisfied: numpy<1.22,>=1.18 in c:\\users\\gmoye\\anaconda3\\lib\\site-packages (from numba) (1.21.5)\n",
      "Requirement already satisfied: llvmlite<0.39,>=0.38.0rc1 in c:\\users\\gmoye\\anaconda3\\lib\\site-packages (from numba) (0.38.0)\n",
      "Note: you may need to restart the kernel to use updated packages.\n"
     ]
    }
   ],
   "source": [
    "pip install numba"
   ]
  },
  {
   "cell_type": "code",
   "execution_count": null,
   "id": "5327053e",
   "metadata": {},
   "outputs": [],
   "source": []
  },
  {
   "cell_type": "code",
   "execution_count": 71,
   "id": "37a1093d",
   "metadata": {
    "collapsed": true
   },
   "outputs": [],
   "source": [
    "import os\n",
    "import hl7\n",
    "from hl7apy import set_default_version, parser\n",
    "from numba.typed import List\n",
    "from numba import njit\n",
    "import locationtagger\n",
    "import re\n",
    "from collections import OrderedDict\n",
    "\n",
    "path = '//dohjl-epi232/HL7_Messages/processed/'\n",
    "filein = '\\\\dohjl-astest\\hl7\\In'\n",
    "folderlist = os.listdir(path)\n",
    "folderlist = folderlist[:-3]\n",
    "\n",
    "def filecontent():\n",
    "    global path\n",
    "    \n",
    "    for folders in enumerate(folderlist):\n",
    "        path = f'//dohjl-epi232/HL7_Messages/processed/{folders[1]}'\n",
    "        for filename in os.listdir(path):\n",
    "            if filename.endswith('.obx'):\n",
    "                with open(os.path.join(path,filename), 'r',encoding = 'UTF-8') as f:\n",
    "                    h = [line.rstrip('\\n').split('|') for line in f]\n",
    "                    h = h[1]\n",
    "                    h2 = [i.replace('^^', '').replace('^', ' ') for i in h]\n",
    "                    h2 = ','.join(h2)\n",
    "                    states = ['IA', 'KS', 'UT', 'VA', 'NC', 'NE', 'SD', 'AL', 'ID', 'FM', 'DE', 'AK', 'CT', 'PR', 'NM', 'MS', 'PW', 'CO', 'NJ', 'FL', 'MN', 'VI', 'NV', 'AZ', 'WI', 'ND', 'PA', 'OK', 'KY', 'RI', 'NH', 'MO', 'ME', 'VT', 'GA', 'AS', 'NY', 'CA', 'HI', 'IL', 'TN', 'MA', 'OH', 'MD', 'MI', 'WY', 'WA', 'OR', 'MH', 'SC', 'IN', 'LA', 'MP', 'DC', 'MT', 'AR', 'WV', 'TX']\n",
    "                    regex = re.compile(r'\\b(' + '|'.join(states) + r')\\b')\n",
    "                    h3 = regex.findall(h2)\n",
    "                    h3 = list(OrderedDict.fromkeys(h3))\n",
    "                    if h3 == []:\n",
    "                        pass\n",
    "                    elif len(h3) > 1:\n",
    "                        h3.pop(0)\n",
    "                    else:\n",
    "                        pass\n",
    "                    \n",
    "                    #print(f'{h}\\n')\n",
    "                    #print(f'{h2}\\n')\n",
    "                    #print(f'{h3}\\n')\n",
    "                    \n",
    "                statesearch = ['MT', 'SD', 'MN', 'WY', 'FL']\n",
    "                for state in statesearch:\n",
    "                    if state in h3:\n",
    "                        print(f'{h3}\\n', f\"\\n{os.path.join(path, filename).replace(os.path.sep, '/')}\\n\", f'\\n{h2}\\n')\n",
    "                        #shutil.copy(os.path.join(path, filename).replace(os.path.sep, '/'), filein)\n",
    "     "
   ]
  },
  {
   "cell_type": "code",
   "execution_count": 72,
   "id": "3d6e4e3d",
   "metadata": {
    "scrolled": false
   },
   "outputs": [
    {
     "name": "stdout",
     "output_type": "stream",
     "text": [
      "['MN']\n",
      " \n",
      "//dohjl-epi232/HL7_Messages/processed/2015/ND_2015-01-02-11-34-04-804.obx\n",
      " \n",
      "PID,1,,708946,,Christlieb Brandon,,19931028,M,,W,25374 Bog Lake TrailOSAGE MN 56570 USA C,, PRN PH 218 2553856,,,,,,,,,N\n",
      "\n",
      "['MN']\n",
      " \n",
      "//dohjl-epi232/HL7_Messages/processed/2015/ND_2015-01-03-09-44-38-097.obx\n",
      " \n",
      "PID,1,,709128,,Brue Maggie R,,19870501,F,,W,14232 Wilds Drive NwPrior Lake MN 55372 USA C,, PRN PH 952 2129428,,,,,,,,,N\n",
      "\n",
      "['SD']\n",
      " \n",
      "//dohjl-epi232/HL7_Messages/processed/2015/ND_2015-01-06-06-04-36-103.obx\n",
      " \n",
      "PID,1,,709158,,Flottmeyer Mark,,19901109,M,,W,7915 Standboat RoadBETHLEHEM SD 57769 USA C,, PRN PH 605 4308158,,,,,,,,,N\n",
      "\n",
      "['SD']\n",
      " \n",
      "//dohjl-epi232/HL7_Messages/processed/2015/ND_2015-01-06-06-04-36-107.obx\n",
      " \n",
      "PID,1,,709158,,Flottmeyer Mark,,19901109,M,,W,7915 Standboat RoadBETHLEHEM SD 57769 USA C,, PRN PH 605 4308158,,,,,,,,,N\n",
      "\n",
      "['SD']\n",
      " \n",
      "//dohjl-epi232/HL7_Messages/processed/2015/ND_2015-01-06-06-04-36-130.obx\n",
      " \n",
      "PID,1,,709158,,Flottmeyer Mark,,19901109,M,,W,7915 Standboat RoadBETHLEHEM SD 57769 USA C,, PRN PH 605 4308158,,,,,,,,,N\n",
      "\n",
      "['SD']\n",
      " \n",
      "//dohjl-epi232/HL7_Messages/processed/2015/ND_2015-01-06-06-04-36-183.obx\n",
      " \n",
      "PID,1,,709158,,Flottmeyer Mark,,19901109,M,,W,7915 Standboat RoadBETHLEHEM SD 57769 USA C,, PRN PH 605 4308158,,,,,,,,,N\n",
      "\n"
     ]
    },
    {
     "ename": "KeyboardInterrupt",
     "evalue": "",
     "output_type": "error",
     "traceback": [
      "\u001b[1;31m---------------------------------------------------------------------------\u001b[0m",
      "\u001b[1;31mKeyboardInterrupt\u001b[0m                         Traceback (most recent call last)",
      "Input \u001b[1;32mIn [72]\u001b[0m, in \u001b[0;36m<cell line: 1>\u001b[1;34m()\u001b[0m\n\u001b[1;32m----> 1\u001b[0m \u001b[43mfilecontent\u001b[49m\u001b[43m(\u001b[49m\u001b[43m)\u001b[49m\n",
      "Input \u001b[1;32mIn [71]\u001b[0m, in \u001b[0;36mfilecontent\u001b[1;34m()\u001b[0m\n\u001b[0;32m     21\u001b[0m \u001b[38;5;28;01mif\u001b[39;00m filename\u001b[38;5;241m.\u001b[39mendswith(\u001b[38;5;124m'\u001b[39m\u001b[38;5;124m.obx\u001b[39m\u001b[38;5;124m'\u001b[39m):\n\u001b[0;32m     22\u001b[0m     \u001b[38;5;28;01mwith\u001b[39;00m \u001b[38;5;28mopen\u001b[39m(os\u001b[38;5;241m.\u001b[39mpath\u001b[38;5;241m.\u001b[39mjoin(path,filename), \u001b[38;5;124m'\u001b[39m\u001b[38;5;124mr\u001b[39m\u001b[38;5;124m'\u001b[39m,encoding \u001b[38;5;241m=\u001b[39m \u001b[38;5;124m'\u001b[39m\u001b[38;5;124mUTF-8\u001b[39m\u001b[38;5;124m'\u001b[39m) \u001b[38;5;28;01mas\u001b[39;00m f:\n\u001b[1;32m---> 23\u001b[0m         h \u001b[38;5;241m=\u001b[39m [line\u001b[38;5;241m.\u001b[39mrstrip(\u001b[38;5;124m'\u001b[39m\u001b[38;5;130;01m\\n\u001b[39;00m\u001b[38;5;124m'\u001b[39m)\u001b[38;5;241m.\u001b[39msplit(\u001b[38;5;124m'\u001b[39m\u001b[38;5;124m|\u001b[39m\u001b[38;5;124m'\u001b[39m) \u001b[38;5;28;01mfor\u001b[39;00m line \u001b[38;5;129;01min\u001b[39;00m f]\n\u001b[0;32m     24\u001b[0m         h \u001b[38;5;241m=\u001b[39m h[\u001b[38;5;241m1\u001b[39m]\n\u001b[0;32m     25\u001b[0m         h2 \u001b[38;5;241m=\u001b[39m [i\u001b[38;5;241m.\u001b[39mreplace(\u001b[38;5;124m'\u001b[39m\u001b[38;5;124m^^\u001b[39m\u001b[38;5;124m'\u001b[39m, \u001b[38;5;124m'\u001b[39m\u001b[38;5;124m'\u001b[39m)\u001b[38;5;241m.\u001b[39mreplace(\u001b[38;5;124m'\u001b[39m\u001b[38;5;124m^\u001b[39m\u001b[38;5;124m'\u001b[39m, \u001b[38;5;124m'\u001b[39m\u001b[38;5;124m \u001b[39m\u001b[38;5;124m'\u001b[39m) \u001b[38;5;28;01mfor\u001b[39;00m i \u001b[38;5;129;01min\u001b[39;00m h]\n",
      "Input \u001b[1;32mIn [71]\u001b[0m, in \u001b[0;36m<listcomp>\u001b[1;34m(.0)\u001b[0m\n\u001b[0;32m     21\u001b[0m \u001b[38;5;28;01mif\u001b[39;00m filename\u001b[38;5;241m.\u001b[39mendswith(\u001b[38;5;124m'\u001b[39m\u001b[38;5;124m.obx\u001b[39m\u001b[38;5;124m'\u001b[39m):\n\u001b[0;32m     22\u001b[0m     \u001b[38;5;28;01mwith\u001b[39;00m \u001b[38;5;28mopen\u001b[39m(os\u001b[38;5;241m.\u001b[39mpath\u001b[38;5;241m.\u001b[39mjoin(path,filename), \u001b[38;5;124m'\u001b[39m\u001b[38;5;124mr\u001b[39m\u001b[38;5;124m'\u001b[39m,encoding \u001b[38;5;241m=\u001b[39m \u001b[38;5;124m'\u001b[39m\u001b[38;5;124mUTF-8\u001b[39m\u001b[38;5;124m'\u001b[39m) \u001b[38;5;28;01mas\u001b[39;00m f:\n\u001b[1;32m---> 23\u001b[0m         h \u001b[38;5;241m=\u001b[39m [line\u001b[38;5;241m.\u001b[39mrstrip(\u001b[38;5;124m'\u001b[39m\u001b[38;5;130;01m\\n\u001b[39;00m\u001b[38;5;124m'\u001b[39m)\u001b[38;5;241m.\u001b[39msplit(\u001b[38;5;124m'\u001b[39m\u001b[38;5;124m|\u001b[39m\u001b[38;5;124m'\u001b[39m) \u001b[38;5;28;01mfor\u001b[39;00m line \u001b[38;5;129;01min\u001b[39;00m f]\n\u001b[0;32m     24\u001b[0m         h \u001b[38;5;241m=\u001b[39m h[\u001b[38;5;241m1\u001b[39m]\n\u001b[0;32m     25\u001b[0m         h2 \u001b[38;5;241m=\u001b[39m [i\u001b[38;5;241m.\u001b[39mreplace(\u001b[38;5;124m'\u001b[39m\u001b[38;5;124m^^\u001b[39m\u001b[38;5;124m'\u001b[39m, \u001b[38;5;124m'\u001b[39m\u001b[38;5;124m'\u001b[39m)\u001b[38;5;241m.\u001b[39mreplace(\u001b[38;5;124m'\u001b[39m\u001b[38;5;124m^\u001b[39m\u001b[38;5;124m'\u001b[39m, \u001b[38;5;124m'\u001b[39m\u001b[38;5;124m \u001b[39m\u001b[38;5;124m'\u001b[39m) \u001b[38;5;28;01mfor\u001b[39;00m i \u001b[38;5;129;01min\u001b[39;00m h]\n",
      "File \u001b[1;32m~\\Anaconda3\\lib\\codecs.py:319\u001b[0m, in \u001b[0;36mBufferedIncrementalDecoder.decode\u001b[1;34m(self, input, final)\u001b[0m\n\u001b[0;32m    314\u001b[0m \u001b[38;5;28;01mdef\u001b[39;00m \u001b[38;5;21m_buffer_decode\u001b[39m(\u001b[38;5;28mself\u001b[39m, \u001b[38;5;28minput\u001b[39m, errors, final):\n\u001b[0;32m    315\u001b[0m     \u001b[38;5;66;03m# Overwrite this method in subclasses: It must decode input\u001b[39;00m\n\u001b[0;32m    316\u001b[0m     \u001b[38;5;66;03m# and return an (output, length consumed) tuple\u001b[39;00m\n\u001b[0;32m    317\u001b[0m     \u001b[38;5;28;01mraise\u001b[39;00m \u001b[38;5;167;01mNotImplementedError\u001b[39;00m\n\u001b[1;32m--> 319\u001b[0m \u001b[38;5;28;01mdef\u001b[39;00m \u001b[38;5;21mdecode\u001b[39m(\u001b[38;5;28mself\u001b[39m, \u001b[38;5;28minput\u001b[39m, final\u001b[38;5;241m=\u001b[39m\u001b[38;5;28;01mFalse\u001b[39;00m):\n\u001b[0;32m    320\u001b[0m     \u001b[38;5;66;03m# decode input (taking the buffer into account)\u001b[39;00m\n\u001b[0;32m    321\u001b[0m     data \u001b[38;5;241m=\u001b[39m \u001b[38;5;28mself\u001b[39m\u001b[38;5;241m.\u001b[39mbuffer \u001b[38;5;241m+\u001b[39m \u001b[38;5;28minput\u001b[39m\n\u001b[0;32m    322\u001b[0m     (result, consumed) \u001b[38;5;241m=\u001b[39m \u001b[38;5;28mself\u001b[39m\u001b[38;5;241m.\u001b[39m_buffer_decode(data, \u001b[38;5;28mself\u001b[39m\u001b[38;5;241m.\u001b[39merrors, final)\n",
      "\u001b[1;31mKeyboardInterrupt\u001b[0m: "
     ]
    }
   ],
   "source": [
    "filecontent()"
   ]
  },
  {
   "cell_type": "code",
   "execution_count": 1,
   "id": "785f310a",
   "metadata": {
    "scrolled": true
   },
   "outputs": [
    {
     "name": "stdout",
     "output_type": "stream",
     "text": [
      "124  files in //dohjl-epi232/HL7_Messages/processed/2009/December 2009\n",
      "513  files in //dohjl-epi232/HL7_Messages/processed/2010/April 2010\n",
      "537  files in //dohjl-epi232/HL7_Messages/processed/2010/August 2010\n",
      "530  files in //dohjl-epi232/HL7_Messages/processed/2010/December 2010\n",
      "426  files in //dohjl-epi232/HL7_Messages/processed/2010/February 2010\n",
      "459  files in //dohjl-epi232/HL7_Messages/processed/2010/January 2010\n",
      "553  files in //dohjl-epi232/HL7_Messages/processed/2010/July 2010\n",
      "521  files in //dohjl-epi232/HL7_Messages/processed/2010/June 2010\n",
      "488  files in //dohjl-epi232/HL7_Messages/processed/2010/March 2010\n",
      "487  files in //dohjl-epi232/HL7_Messages/processed/2010/May 2010\n",
      "490  files in //dohjl-epi232/HL7_Messages/processed/2010/November 2010\n",
      "479  files in //dohjl-epi232/HL7_Messages/processed/2010/October 2010\n",
      "625  files in //dohjl-epi232/HL7_Messages/processed/2010/September 2010\n",
      "528  files in //dohjl-epi232/HL7_Messages/processed/2011/April 2011\n",
      "538  files in //dohjl-epi232/HL7_Messages/processed/2011/August 2011\n",
      "498  files in //dohjl-epi232/HL7_Messages/processed/2011/December 2011\n",
      "685  files in //dohjl-epi232/HL7_Messages/processed/2011/February 2011\n",
      "466  files in //dohjl-epi232/HL7_Messages/processed/2011/January 2011\n",
      "441  files in //dohjl-epi232/HL7_Messages/processed/2011/July 2011\n",
      "540  files in //dohjl-epi232/HL7_Messages/processed/2011/June 2011\n",
      "850  files in //dohjl-epi232/HL7_Messages/processed/2011/March 2011\n",
      "515  files in //dohjl-epi232/HL7_Messages/processed/2011/May 2011\n",
      "592  files in //dohjl-epi232/HL7_Messages/processed/2011/November 2011\n",
      "529  files in //dohjl-epi232/HL7_Messages/processed/2011/October 2011\n",
      "577  files in //dohjl-epi232/HL7_Messages/processed/2011/September 2011\n",
      "574  files in //dohjl-epi232/HL7_Messages/processed/2012/April 2012\n",
      "1332  files in //dohjl-epi232/HL7_Messages/processed/2012/August 2012\n",
      "1339  files in //dohjl-epi232/HL7_Messages/processed/2012/December 2012\n",
      "565  files in //dohjl-epi232/HL7_Messages/processed/2012/February 2012\n",
      "534  files in //dohjl-epi232/HL7_Messages/processed/2012/January 2012\n",
      "800  files in //dohjl-epi232/HL7_Messages/processed/2012/July 2012\n",
      "626  files in //dohjl-epi232/HL7_Messages/processed/2012/June 2012\n",
      "641  files in //dohjl-epi232/HL7_Messages/processed/2012/March 2012\n",
      "659  files in //dohjl-epi232/HL7_Messages/processed/2012/May 2012\n",
      "912  files in //dohjl-epi232/HL7_Messages/processed/2012/November 2012\n",
      "1133  files in //dohjl-epi232/HL7_Messages/processed/2012/October 2012\n",
      "1065  files in //dohjl-epi232/HL7_Messages/processed/2012/September 2012\n",
      "1335  files in //dohjl-epi232/HL7_Messages/processed/2013/April 2013\n",
      "1517  files in //dohjl-epi232/HL7_Messages/processed/2013/August 2013\n",
      "1486  files in //dohjl-epi232/HL7_Messages/processed/2013/December 2013\n",
      "1259  files in //dohjl-epi232/HL7_Messages/processed/2013/February 2013\n",
      "1763  files in //dohjl-epi232/HL7_Messages/processed/2013/January 2013\n",
      "1628  files in //dohjl-epi232/HL7_Messages/processed/2013/July 2013\n",
      "1335  files in //dohjl-epi232/HL7_Messages/processed/2013/June 2013\n",
      "1337  files in //dohjl-epi232/HL7_Messages/processed/2013/March 2013\n",
      "1510  files in //dohjl-epi232/HL7_Messages/processed/2013/May 2013\n",
      "1477  files in //dohjl-epi232/HL7_Messages/processed/2013/November 2013\n",
      "1650  files in //dohjl-epi232/HL7_Messages/processed/2013/October 2013\n",
      "1683  files in //dohjl-epi232/HL7_Messages/processed/2013/September 2013\n",
      "4  files in //dohjl-epi232/HL7_Messages/processed/2014\n",
      "27209  files in //dohjl-epi232/HL7_Messages/processed/2015\n",
      "35949  files in //dohjl-epi232/HL7_Messages/processed/2016\n",
      "31376  files in //dohjl-epi232/HL7_Messages/processed/2017\n",
      "40387  files in //dohjl-epi232/HL7_Messages/processed/2018\n",
      "49947  files in //dohjl-epi232/HL7_Messages/processed/2019\n"
     ]
    },
    {
     "ename": "KeyboardInterrupt",
     "evalue": "",
     "output_type": "error",
     "traceback": [
      "\u001b[1;31m---------------------------------------------------------------------------\u001b[0m",
      "\u001b[1;31mKeyboardInterrupt\u001b[0m                         Traceback (most recent call last)",
      "Input \u001b[1;32mIn [1]\u001b[0m, in \u001b[0;36m<cell line: 15>\u001b[1;34m()\u001b[0m\n\u001b[0;32m     22\u001b[0m sublist \u001b[38;5;241m=\u001b[39m os\u001b[38;5;241m.\u001b[39mlistdir(\u001b[38;5;124mf\u001b[39m\u001b[38;5;124m'\u001b[39m\u001b[38;5;132;01m{\u001b[39;00mrootdir\u001b[38;5;132;01m}\u001b[39;00m\u001b[38;5;124m/\u001b[39m\u001b[38;5;132;01m{\u001b[39;00mname[\u001b[38;5;241m1\u001b[39m]\u001b[38;5;132;01m}\u001b[39;00m\u001b[38;5;124m/\u001b[39m\u001b[38;5;132;01m{\u001b[39;00mfolders[\u001b[38;5;241m1\u001b[39m]\u001b[38;5;132;01m}\u001b[39;00m\u001b[38;5;124m'\u001b[39m)\n\u001b[0;32m     23\u001b[0m \u001b[38;5;28;01mif\u001b[39;00m os\u001b[38;5;241m.\u001b[39mpath\u001b[38;5;241m.\u001b[39misfile(\u001b[38;5;124mf\u001b[39m\u001b[38;5;124m'\u001b[39m\u001b[38;5;132;01m{\u001b[39;00mrootdir\u001b[38;5;132;01m}\u001b[39;00m\u001b[38;5;124m/\u001b[39m\u001b[38;5;132;01m{\u001b[39;00mname[\u001b[38;5;241m1\u001b[39m]\u001b[38;5;132;01m}\u001b[39;00m\u001b[38;5;124m/\u001b[39m\u001b[38;5;132;01m{\u001b[39;00mfolders[\u001b[38;5;241m1\u001b[39m]\u001b[38;5;132;01m}\u001b[39;00m\u001b[38;5;124m/\u001b[39m\u001b[38;5;132;01m{\u001b[39;00msublist[\u001b[38;5;241m0\u001b[39m]\u001b[38;5;132;01m}\u001b[39;00m\u001b[38;5;124m'\u001b[39m):\n\u001b[1;32m---> 24\u001b[0m     \u001b[38;5;28mprint\u001b[39m(\u001b[38;5;28mlen\u001b[39m([n \u001b[38;5;28;01mfor\u001b[39;00m n \u001b[38;5;129;01min\u001b[39;00m os\u001b[38;5;241m.\u001b[39mlistdir(\u001b[38;5;124mf\u001b[39m\u001b[38;5;124m'\u001b[39m\u001b[38;5;132;01m{\u001b[39;00mrootdir\u001b[38;5;132;01m}\u001b[39;00m\u001b[38;5;124m/\u001b[39m\u001b[38;5;132;01m{\u001b[39;00mname[\u001b[38;5;241m1\u001b[39m]\u001b[38;5;132;01m}\u001b[39;00m\u001b[38;5;124m/\u001b[39m\u001b[38;5;132;01m{\u001b[39;00mfolders[\u001b[38;5;241m1\u001b[39m]\u001b[38;5;132;01m}\u001b[39;00m\u001b[38;5;124m'\u001b[39m) \u001b[38;5;28;01mif\u001b[39;00m os\u001b[38;5;241m.\u001b[39mpath\u001b[38;5;241m.\u001b[39misfile(os\u001b[38;5;241m.\u001b[39mpath\u001b[38;5;241m.\u001b[39mjoin(\u001b[38;5;124mf\u001b[39m\u001b[38;5;124m'\u001b[39m\u001b[38;5;132;01m{\u001b[39;00mrootdir\u001b[38;5;132;01m}\u001b[39;00m\u001b[38;5;124m/\u001b[39m\u001b[38;5;132;01m{\u001b[39;00mname[\u001b[38;5;241m1\u001b[39m]\u001b[38;5;132;01m}\u001b[39;00m\u001b[38;5;124m/\u001b[39m\u001b[38;5;132;01m{\u001b[39;00mfolders[\u001b[38;5;241m1\u001b[39m]\u001b[38;5;132;01m}\u001b[39;00m\u001b[38;5;124m/\u001b[39m\u001b[38;5;124m'\u001b[39m, n))]), \u001b[38;5;124mf\u001b[39m\u001b[38;5;124m'\u001b[39m\u001b[38;5;124m files in \u001b[39m\u001b[38;5;132;01m{\u001b[39;00mrootdir\u001b[38;5;132;01m}\u001b[39;00m\u001b[38;5;124m/\u001b[39m\u001b[38;5;132;01m{\u001b[39;00mname[\u001b[38;5;241m1\u001b[39m]\u001b[38;5;132;01m}\u001b[39;00m\u001b[38;5;124m/\u001b[39m\u001b[38;5;132;01m{\u001b[39;00mfolders[\u001b[38;5;241m1\u001b[39m]\u001b[38;5;132;01m}\u001b[39;00m\u001b[38;5;124m'\u001b[39m)\n",
      "Input \u001b[1;32mIn [1]\u001b[0m, in \u001b[0;36m<listcomp>\u001b[1;34m(.0)\u001b[0m\n\u001b[0;32m     22\u001b[0m sublist \u001b[38;5;241m=\u001b[39m os\u001b[38;5;241m.\u001b[39mlistdir(\u001b[38;5;124mf\u001b[39m\u001b[38;5;124m'\u001b[39m\u001b[38;5;132;01m{\u001b[39;00mrootdir\u001b[38;5;132;01m}\u001b[39;00m\u001b[38;5;124m/\u001b[39m\u001b[38;5;132;01m{\u001b[39;00mname[\u001b[38;5;241m1\u001b[39m]\u001b[38;5;132;01m}\u001b[39;00m\u001b[38;5;124m/\u001b[39m\u001b[38;5;132;01m{\u001b[39;00mfolders[\u001b[38;5;241m1\u001b[39m]\u001b[38;5;132;01m}\u001b[39;00m\u001b[38;5;124m'\u001b[39m)\n\u001b[0;32m     23\u001b[0m \u001b[38;5;28;01mif\u001b[39;00m os\u001b[38;5;241m.\u001b[39mpath\u001b[38;5;241m.\u001b[39misfile(\u001b[38;5;124mf\u001b[39m\u001b[38;5;124m'\u001b[39m\u001b[38;5;132;01m{\u001b[39;00mrootdir\u001b[38;5;132;01m}\u001b[39;00m\u001b[38;5;124m/\u001b[39m\u001b[38;5;132;01m{\u001b[39;00mname[\u001b[38;5;241m1\u001b[39m]\u001b[38;5;132;01m}\u001b[39;00m\u001b[38;5;124m/\u001b[39m\u001b[38;5;132;01m{\u001b[39;00mfolders[\u001b[38;5;241m1\u001b[39m]\u001b[38;5;132;01m}\u001b[39;00m\u001b[38;5;124m/\u001b[39m\u001b[38;5;132;01m{\u001b[39;00msublist[\u001b[38;5;241m0\u001b[39m]\u001b[38;5;132;01m}\u001b[39;00m\u001b[38;5;124m'\u001b[39m):\n\u001b[1;32m---> 24\u001b[0m     \u001b[38;5;28mprint\u001b[39m(\u001b[38;5;28mlen\u001b[39m([n \u001b[38;5;28;01mfor\u001b[39;00m n \u001b[38;5;129;01min\u001b[39;00m os\u001b[38;5;241m.\u001b[39mlistdir(\u001b[38;5;124mf\u001b[39m\u001b[38;5;124m'\u001b[39m\u001b[38;5;132;01m{\u001b[39;00mrootdir\u001b[38;5;132;01m}\u001b[39;00m\u001b[38;5;124m/\u001b[39m\u001b[38;5;132;01m{\u001b[39;00mname[\u001b[38;5;241m1\u001b[39m]\u001b[38;5;132;01m}\u001b[39;00m\u001b[38;5;124m/\u001b[39m\u001b[38;5;132;01m{\u001b[39;00mfolders[\u001b[38;5;241m1\u001b[39m]\u001b[38;5;132;01m}\u001b[39;00m\u001b[38;5;124m'\u001b[39m) \u001b[38;5;28;01mif\u001b[39;00m \u001b[43mos\u001b[49m\u001b[38;5;241;43m.\u001b[39;49m\u001b[43mpath\u001b[49m\u001b[38;5;241;43m.\u001b[39;49m\u001b[43misfile\u001b[49m\u001b[43m(\u001b[49m\u001b[43mos\u001b[49m\u001b[38;5;241;43m.\u001b[39;49m\u001b[43mpath\u001b[49m\u001b[38;5;241;43m.\u001b[39;49m\u001b[43mjoin\u001b[49m\u001b[43m(\u001b[49m\u001b[38;5;124;43mf\u001b[39;49m\u001b[38;5;124;43m'\u001b[39;49m\u001b[38;5;132;43;01m{\u001b[39;49;00m\u001b[43mrootdir\u001b[49m\u001b[38;5;132;43;01m}\u001b[39;49;00m\u001b[38;5;124;43m/\u001b[39;49m\u001b[38;5;132;43;01m{\u001b[39;49;00m\u001b[43mname\u001b[49m\u001b[43m[\u001b[49m\u001b[38;5;241;43m1\u001b[39;49m\u001b[43m]\u001b[49m\u001b[38;5;132;43;01m}\u001b[39;49;00m\u001b[38;5;124;43m/\u001b[39;49m\u001b[38;5;132;43;01m{\u001b[39;49;00m\u001b[43mfolders\u001b[49m\u001b[43m[\u001b[49m\u001b[38;5;241;43m1\u001b[39;49m\u001b[43m]\u001b[49m\u001b[38;5;132;43;01m}\u001b[39;49;00m\u001b[38;5;124;43m/\u001b[39;49m\u001b[38;5;124;43m'\u001b[39;49m\u001b[43m,\u001b[49m\u001b[43m \u001b[49m\u001b[43mn\u001b[49m\u001b[43m)\u001b[49m\u001b[43m)\u001b[49m]), \u001b[38;5;124mf\u001b[39m\u001b[38;5;124m'\u001b[39m\u001b[38;5;124m files in \u001b[39m\u001b[38;5;132;01m{\u001b[39;00mrootdir\u001b[38;5;132;01m}\u001b[39;00m\u001b[38;5;124m/\u001b[39m\u001b[38;5;132;01m{\u001b[39;00mname[\u001b[38;5;241m1\u001b[39m]\u001b[38;5;132;01m}\u001b[39;00m\u001b[38;5;124m/\u001b[39m\u001b[38;5;132;01m{\u001b[39;00mfolders[\u001b[38;5;241m1\u001b[39m]\u001b[38;5;132;01m}\u001b[39;00m\u001b[38;5;124m'\u001b[39m)\n",
      "File \u001b[1;32m~\\Anaconda3\\lib\\genericpath.py:30\u001b[0m, in \u001b[0;36misfile\u001b[1;34m(path)\u001b[0m\n\u001b[0;32m     28\u001b[0m \u001b[38;5;124;03m\"\"\"Test whether a path is a regular file\"\"\"\u001b[39;00m\n\u001b[0;32m     29\u001b[0m \u001b[38;5;28;01mtry\u001b[39;00m:\n\u001b[1;32m---> 30\u001b[0m     st \u001b[38;5;241m=\u001b[39m \u001b[43mos\u001b[49m\u001b[38;5;241;43m.\u001b[39;49m\u001b[43mstat\u001b[49m\u001b[43m(\u001b[49m\u001b[43mpath\u001b[49m\u001b[43m)\u001b[49m\n\u001b[0;32m     31\u001b[0m \u001b[38;5;28;01mexcept\u001b[39;00m (\u001b[38;5;167;01mOSError\u001b[39;00m, \u001b[38;5;167;01mValueError\u001b[39;00m):\n\u001b[0;32m     32\u001b[0m     \u001b[38;5;28;01mreturn\u001b[39;00m \u001b[38;5;28;01mFalse\u001b[39;00m\n",
      "\u001b[1;31mKeyboardInterrupt\u001b[0m: "
     ]
    }
   ],
   "source": [
    "from pathlib import Path\n",
    "import os\n",
    "\n",
    "#def listdirs(folderlist):\n",
    "#    for path in Path(folderlist).iterdir():\n",
    "#        if path.is_dir():\n",
    "#            print(path.name)\n",
    "#            listdirs(path.name)\n",
    "\n",
    "rootdir = '//dohjl-epi232/HL7_Messages/processed'\n",
    "folderlist = os.listdir(rootdir)\n",
    "folderlist = folderlist[:-3]\n",
    "list1 = [name for name in os.listdir(rootdir)[:-3] if os.path.isdir(os.path.join(rootdir, name))]\n",
    "#print(list1)\n",
    "for name in enumerate(list1):\n",
    "    sublist = os.listdir(f'{rootdir}/{name[1]}')\n",
    "    if os.path.isfile(f'{rootdir}/{name[1]}/{sublist[0]}'):\n",
    "        print(len([n for n in os.listdir(f'{rootdir}/{name[1]}') if os.path.isfile(os.path.join(f'{rootdir}/{name[1]}', n))]), f' files in {rootdir}/{name[1]}')\n",
    "        pass\n",
    "    else:\n",
    "        for folders in enumerate(sublist):\n",
    "            sublist = os.listdir(f'{rootdir}/{name[1]}/{folders[1]}')\n",
    "            if os.path.isfile(f'{rootdir}/{name[1]}/{folders[1]}/{sublist[0]}'):\n",
    "                print(len([n for n in os.listdir(f'{rootdir}/{name[1]}/{folders[1]}') if os.path.isfile(os.path.join(f'{rootdir}/{name[1]}/{folders[1]}/', n))]), f' files in {rootdir}/{name[1]}/{folders[1]}')\n",
    "\n",
    "\n",
    "#listdirs(rootdir)"
   ]
  },
  {
   "cell_type": "raw",
   "id": "5276263d",
   "metadata": {},
   "source": []
  },
  {
   "cell_type": "code",
   "execution_count": 73,
   "id": "288b9bb2",
   "metadata": {},
   "outputs": [
    {
     "name": "stdout",
     "output_type": "stream",
     "text": [
      "Note: you may need to restart the kernel to use updated packages.\n"
     ]
    },
    {
     "name": "stderr",
     "output_type": "stream",
     "text": [
      "ERROR: Could not find a version that satisfies the requirement odac (from versions: none)\n",
      "ERROR: No matching distribution found for odac\n"
     ]
    }
   ],
   "source": [
    "pip install odac"
   ]
  },
  {
   "cell_type": "code",
   "execution_count": 16,
   "id": "9fd27686",
   "metadata": {},
   "outputs": [
    {
     "name": "stdout",
     "output_type": "stream",
     "text": [
      "3.9.12\n"
     ]
    }
   ],
   "source": [
    "from platform import python_version\n",
    "print(python_version())"
   ]
  },
  {
   "cell_type": "code",
   "execution_count": null,
   "id": "19fff64a",
   "metadata": {},
   "outputs": [],
   "source": [
    "                #print(regex)\n",
    "                \n",
    "                #place_entity = locationtagger.find_locations(text = h2)\n",
    "                #print(\"The countries in text: \")\n",
    "                #print(place_entity.countries)\n",
    "                #print(\"The states in text: \")\n",
    "                #print(place_entity.regions)\n",
    "                #print(\"The cities in text: \")\n",
    "                #print(place_entity.cities)\n",
    "                    \n",
    "                #print(f'{len(h2[23])}\\n',f'{h2[23]}                #print(f'{h2}\\n') \n",
    "                \n",
    "                                    #for val in h:\n",
    "                        #val.strip('^')\n",
    "                        #val.replace('^', '')\n",
    "                #print(f'{hl7}\\n')\n",
    "                \n",
    "                #print(f'{list(enumerate(h2))}\\n')\n",
    "                #if len(h2[23]) == 0:\n",
    "                #    print('No Address Found\\n')\n",
    "                #else: \n",
    "                #    print(f'{h2[23]}\\n')\n",
    "                    \n",
    "                #if len(h2[23]) <= 10:\n",
    "                #    print(f'{list(enumerate(h2))}\\n', f'{h2[23]}\\n')\n",
    "                #else:\n",
    "                #    pass\n",
    "                #def fast_scandir(path):\n",
    "#    #fnames = os.walk(path)onl\n",
    "#    fnames = [f.path for f in os.scandir(path) if f.is_dir()]\n",
    "#    for dirname in fnames[:-3]:\n",
    "#        fnames.extend(fast_scandir(dirname))\n",
    "#    return fnames"
   ]
  }
 ],
 "metadata": {
  "kernelspec": {
   "display_name": "Python 3 (ipykernel)",
   "language": "python",
   "name": "python3"
  },
  "language_info": {
   "codemirror_mode": {
    "name": "ipython",
    "version": 3
   },
   "file_extension": ".py",
   "mimetype": "text/x-python",
   "name": "python",
   "nbconvert_exporter": "python",
   "pygments_lexer": "ipython3",
   "version": "3.9.12"
  }
 },
 "nbformat": 4,
 "nbformat_minor": 5
}
